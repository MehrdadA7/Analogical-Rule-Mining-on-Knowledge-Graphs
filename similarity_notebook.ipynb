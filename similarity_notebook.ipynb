{
 "cells": [
  {
   "cell_type": "markdown",
   "metadata": {
    "toc": true
   },
   "source": [
    "<h1>Table of Contents<span class=\"tocSkip\"></span></h1>\n",
    "<div class=\"toc\"><ul class=\"toc-item\"><li><span><a href=\"#Similarity-implementations\" data-toc-modified-id=\"Similarity-implementations-1\"><span class=\"toc-item-num\">1&nbsp;&nbsp;</span>Similarity implementations</a></span><ul class=\"toc-item\"><li><span><a href=\"#Subject-Similarity-\" data-toc-modified-id=\"Subject-Similarity--1.1\"><span class=\"toc-item-num\">1.1&nbsp;&nbsp;</span>Subject Similarity <a id=\"sub\"></a></a></span></li><li><span><a href=\"#OpenKE-based-similarities---\" data-toc-modified-id=\"OpenKE-based-similarities----1.2\"><span class=\"toc-item-num\">1.2&nbsp;&nbsp;</span>OpenKE based similarities  <a id=\"OpenKE\"> </a></a></span><ul class=\"toc-item\"><li><span><a href=\"#OpenKE-Model-\" data-toc-modified-id=\"OpenKE-Model--1.2.1\"><span class=\"toc-item-num\">1.2.1&nbsp;&nbsp;</span>OpenKE Model <a id=\"Model\"></a></a></span></li><li><span><a href=\"#Cosine--\" data-toc-modified-id=\"Cosine---1.2.2\"><span class=\"toc-item-num\">1.2.2&nbsp;&nbsp;</span>Cosine  <a id=\"cos\"></a></a></span><ul class=\"toc-item\"><li><span><a href=\"#gen_all_cos()\" data-toc-modified-id=\"gen_all_cos()-1.2.2.1\"><span class=\"toc-item-num\">1.2.2.1&nbsp;&nbsp;</span>gen_all_cos()</a></span></li></ul></li><li><span><a href=\"#DistMult-Avg--\" data-toc-modified-id=\"DistMult-Avg---1.2.3\"><span class=\"toc-item-num\">1.2.3&nbsp;&nbsp;</span>DistMult Avg  <a id=\"avg\"></a></a></span><ul class=\"toc-item\"><li><span><a href=\"#gen_all_avg_DistMult_sim()\" data-toc-modified-id=\"gen_all_avg_DistMult_sim()-1.2.3.1\"><span class=\"toc-item-num\">1.2.3.1&nbsp;&nbsp;</span>gen_all_avg_DistMult_sim()</a></span></li></ul></li></ul></li></ul></li><li><span><a href=\"#Append-module\" data-toc-modified-id=\"Append-module-2\"><span class=\"toc-item-num\">2&nbsp;&nbsp;</span>Append module</a></span></li><li><span><a href=\"#AMIE-and-Evaluations\" data-toc-modified-id=\"AMIE-and-Evaluations-3\"><span class=\"toc-item-num\">3&nbsp;&nbsp;</span>AMIE and Evaluations</a></span><ul class=\"toc-item\"><li><span><a href=\"#Baseline-evaluation\" data-toc-modified-id=\"Baseline-evaluation-3.1\"><span class=\"toc-item-num\">3.1&nbsp;&nbsp;</span>Baseline evaluation</a></span></li><li><span><a href=\"#Enriched-KB-Evaluation\" data-toc-modified-id=\"Enriched-KB-Evaluation-3.2\"><span class=\"toc-item-num\">3.2&nbsp;&nbsp;</span>Enriched KB Evaluation</a></span></li></ul></li></ul></div>"
   ]
  },
  {
   "cell_type": "markdown",
   "metadata": {},
   "source": [
    "# Similarity implementations"
   ]
  },
  {
   "cell_type": "markdown",
   "metadata": {},
   "source": [
    "Important files:\n",
    "- `./OpenKE/benchmarks/FB15K/train2id.txt` : \\[int int int\\]. Used by OpenKE based models (cosine, DistMult Avg) to find embeddings and Subject Similarity to find similarities.\n",
    "- `./OpenKE/benchmarks/FB15K/entity2id.txt` : \\[/mid int\\].  \n",
    "    - Used for translating similarity df from previous step to a df with this structure: \\[ /mid /similar_to /mid \\] .\n",
    "    - Also used by Word2vec notebook.\n",
    "- `./FB15k/mid2name.tsv` : \\[ /mid word \\]. Used by word2vec notebook.\n",
    "- `./FB15k/train.txt` : \\[/mid /mid /mid\\]. Used by AMIE. Thus, enrichement must happen on this file."
   ]
  },
  {
   "cell_type": "markdown",
   "metadata": {},
   "source": [
    "-----"
   ]
  },
  {
   "cell_type": "code",
   "execution_count": 145,
   "metadata": {
    "ExecuteTime": {
     "end_time": "2020-05-13T02:23:16.542351Z",
     "start_time": "2020-05-13T02:23:16.532434Z"
    }
   },
   "outputs": [],
   "source": [
    "from itertools import combinations\n",
    "import pandas as pd\n",
    "import random\n",
    "\n",
    "from OpenKE import models,config\n",
    "import multiprocessing\n",
    "import tensorflow as tf\n",
    "import numpy as np\n",
    "from itertools import combinations\n",
    "import pandas as pd\n",
    "\n",
    "import os\n",
    "\n",
    "\n",
    "\n",
    "SUBJ = True\n",
    "COS = True\n",
    "DIST_AVG = True\n",
    "\n",
    "\n",
    "SUBJ_SCORE = 0\n",
    "COS_THR = .8\n",
    "DIST_AVG_THR = -3"
   ]
  },
  {
   "cell_type": "markdown",
   "metadata": {},
   "source": [
    "## Subject Similarity <a id=\"sub\"></a>"
   ]
  },
  {
   "cell_type": "markdown",
   "metadata": {},
   "source": [
    "The definition of similarity in this module is as follows:  \n",
    "\n",
    "Let $e_i$ be an entity in the KB. Associated to $e_i$ there's a set $S_{e_i}$ defined by:\n",
    "\n",
    "\n",
    "$$\n",
    "S_{e_i} = \\{ (r,e) | (e_i ,r,e) \\in KB \\}.\n",
    "$$\n",
    "\n",
    "It's the set of tuples $(r,e)$ such that $(e_i,r,e)$ is a triplet in the KB."
   ]
  },
  {
   "cell_type": "markdown",
   "metadata": {},
   "source": [
    "\n",
    "We say $e_i$ is similar to $e_j$ if $S_{e_i} \\cap S_{e_j} \\neq \\emptyset$. Moreover, we define the similarity score between $e_i$ and $e_j$ by $sc(e_i,e_j) = | S_{e_i} \\cap S_{e_j} |$."
   ]
  },
  {
   "cell_type": "code",
   "execution_count": 147,
   "metadata": {
    "ExecuteTime": {
     "end_time": "2020-05-13T02:26:13.700435Z",
     "start_time": "2020-05-13T02:25:39.865839Z"
    }
   },
   "outputs": [
    {
     "name": "stdout",
     "output_type": "stream",
     "text": [
      "1.2668290551811503%\n"
     ]
    }
   ],
   "source": [
    "# An implementation of the above is here:\n",
    "# \n",
    "# Read every line in train2id and store the sets S_{e_i} in a list.\n",
    "#\n",
    "if SUBJ:\n",
    "    ent_total = 14951    # From the first line of ent2id.txt\n",
    "    file = \"./OpenKE/benchmarks/FB15K/train2id.txt\"\n",
    "    s = [ [] for _ in range(ent_total)] # A list of lists(sets). Will contain all sets S_{e_i}.\n",
    "\n",
    "    f = open(file,'r')\n",
    "    num_lines = f.readline()    # First line of train2id is the number of triplets\n",
    "    for i in range(int(num_lines)):\n",
    "        l = f.readline()\n",
    "        l = l.split()\n",
    "        try:\n",
    "            s[int(l[0])] += [ ( int(l[1]) , int(l[2]) ) ]\n",
    "        except:\n",
    "            print(\"something went wrong at triple\" + str(i))\n",
    "            raise\n",
    "    f.close()\n",
    "    ####################################\n",
    "    # ent_total = ent_total // 50     # for speed boost in tests\n",
    "    tot = ent_total *(ent_total -1)/2\n",
    "    c = 0 # counter \n",
    "\n",
    "    h = []\n",
    "    t = []\n",
    "    sc = []\n",
    "    try:\n",
    "        for i,j in combinations(range(ent_total),2):\n",
    "            c +=1\n",
    "            score = len( set(s[i]) & set(s[j]) )\n",
    "            if score > SUBJ_SCORE:\n",
    "                h.append(i)\n",
    "                t.append(j)\n",
    "                sc.append(score)\n",
    "    except KeyboardInterrupt:\n",
    "        print(str(100*c/ tot) + \"%\")"
   ]
  },
  {
   "cell_type": "markdown",
   "metadata": {},
   "source": [
    "With this data frame in hand, we can play so many different games, i.e. filtering out low scores, etc. But at the end these must be appended to the training file in mid format. So each integer `id` must be translated to `/mid` an then appended to train.txt in the form `/mid /similar_to /mid`.\n",
    "\n",
    "For the appending operation we have defined another module that takes the filtered data frame as input. The filtered data frame must have only two columns named 'head' and 'tail'."
   ]
  },
  {
   "cell_type": "code",
   "execution_count": 149,
   "metadata": {
    "ExecuteTime": {
     "end_time": "2020-05-13T02:29:09.434283Z",
     "start_time": "2020-05-13T02:29:09.254291Z"
    }
   },
   "outputs": [],
   "source": [
    "if SUBJ:\n",
    "    d = {'head':h , 'tail':t, 'score': sc}\n",
    "    df = pd.DataFrame(data=d)\n",
    "\n",
    "    # df.loc[df['score'] == 2] # Nullius in verba\n",
    "    filt_sub_df = df.copy()\n",
    "    #filt_sub_df = df.loc[df['score'] > 2].copy() # More filtering if needed\n",
    "    filt_sub_df.drop(columns='score',inplace=True)\n",
    "    filt_sub_df # Nullius in verba again"
   ]
  },
  {
   "cell_type": "markdown",
   "metadata": {},
   "source": [
    "We write the function call for appending in the next cell in comments. So whenever needed you just need to uncomment and call create the train_enriched.txt in `./FB15K` folder. This will be later used by AMIE to mine rules."
   ]
  },
  {
   "cell_type": "code",
   "execution_count": null,
   "metadata": {
    "ExecuteTime": {
     "end_time": "2020-05-13T00:47:01.737752Z",
     "start_time": "2020-05-13T00:14:36.325Z"
    }
   },
   "outputs": [],
   "source": [
    "# filt_sub_df #feed it to append module "
   ]
  },
  {
   "cell_type": "markdown",
   "metadata": {},
   "source": [
    "----"
   ]
  },
  {
   "cell_type": "markdown",
   "metadata": {},
   "source": [
    "## OpenKE based similarities  <a id=\"OpenKE\"> </a>"
   ]
  },
  {
   "cell_type": "markdown",
   "metadata": {},
   "source": [
    "We have two similarity routine based on DistMult in OpenKE. One is cos_sim and the other is avg_dist_mult. For these to run and generate the similarity data frame, first we need to run the OpenKE model which learns the embeddings. This is the first task, done in the section below."
   ]
  },
  {
   "cell_type": "markdown",
   "metadata": {},
   "source": [
    "### OpenKE Model <a id=\"Model\"></a>"
   ]
  },
  {
   "cell_type": "code",
   "execution_count": 152,
   "metadata": {
    "ExecuteTime": {
     "end_time": "2020-05-13T02:31:00.639066Z",
     "start_time": "2020-05-13T02:30:12.919985Z"
    }
   },
   "outputs": [
    {
     "name": "stdout",
     "output_type": "stream",
     "text": [
      "\n",
      "WARNING: The TensorFlow contrib module will not be included in TensorFlow 2.0.\n",
      "For more information, please see:\n",
      "  * https://github.com/tensorflow/community/blob/master/rfcs/20180907-contrib-sunset.md\n",
      "  * https://github.com/tensorflow/addons\n",
      "If you depend on functionality not listed there, please file an issue.\n",
      "\n",
      "WARNING:tensorflow:From /Users/mehrdadalvandipour/anaconda3/lib/python3.7/site-packages/tensorflow/python/framework/op_def_library.py:263: colocate_with (from tensorflow.python.framework.ops) is deprecated and will be removed in a future version.\n",
      "Instructions for updating:\n",
      "Colocations handled automatically by placer.\n",
      "WARNING:tensorflow:From /Users/mehrdadalvandipour/git_dir/Analogical-Rule-Mining-on-Knowledge-Graphs/OpenKE/models/DistMult.py:12: calling reduce_sum_v1 (from tensorflow.python.ops.math_ops) with keep_dims is deprecated and will be removed in a future version.\n",
      "Instructions for updating:\n",
      "keep_dims is deprecated, use keepdims instead\n",
      "(4831, 1)\n",
      "WARNING:tensorflow:From /Users/mehrdadalvandipour/anaconda3/lib/python3.7/site-packages/tensorflow/python/ops/math_ops.py:3066: to_int32 (from tensorflow.python.ops.math_ops) is deprecated and will be removed in a future version.\n",
      "Instructions for updating:\n",
      "Use tf.cast instead.\n",
      "Epoch: 0, loss: 106.90102261304855, time: 2.2821030616760254\n",
      "Epoch: 1, loss: 78.5926023721695, time: 1.6487796306610107\n",
      "Epoch: 2, loss: 54.56997752189636, time: 1.6471941471099854\n",
      "Epoch: 3, loss: 36.70836439728737, time: 1.6839139461517334\n",
      "Epoch: 4, loss: 27.36841708421707, time: 1.771256923675537\n",
      "Epoch: 5, loss: 22.068762376904488, time: 1.7960491180419922\n",
      "Epoch: 6, loss: 18.800175711512566, time: 2.4436450004577637\n",
      "Epoch: 7, loss: 16.462902665138245, time: 2.2367680072784424\n",
      "Epoch: 8, loss: 14.685557439923286, time: 1.7903060913085938\n",
      "Epoch: 9, loss: 13.507666736841202, time: 1.7678091526031494\n",
      "Epoch: 10, loss: 12.384900398552418, time: 2.1172149181365967\n",
      "Epoch: 11, loss: 11.493754401803017, time: 2.1587538719177246\n",
      "Epoch: 12, loss: 10.862254671752453, time: 1.8723318576812744\n",
      "Epoch: 13, loss: 10.289322048425674, time: 2.2482221126556396\n",
      "Epoch: 14, loss: 9.62806010991335, time: 1.8235299587249756\n",
      "Epoch: 15, loss: 9.11683103442192, time: 1.8023428916931152\n",
      "Epoch: 16, loss: 8.859687328338623, time: 1.8193752765655518\n",
      "Epoch: 17, loss: 8.380177177488804, time: 1.8013908863067627\n",
      "Epoch: 18, loss: 8.269485868513584, time: 1.8338470458984375\n",
      "Epoch: 19, loss: 7.927586115896702, time: 1.7993319034576416\n"
     ]
    }
   ],
   "source": [
    "if COS or DIST_AVG:\n",
    "    con = config.Config()\n",
    "    con.set_in_path('./OpenKE/benchmarks/FB15K/')\n",
    "\n",
    "    con.set_test_link_prediction(True)\n",
    "    con.set_test_triple_classification(True)\n",
    "\n",
    "    con.set_work_threads(multiprocessing.cpu_count())\n",
    "\n",
    "    con.set_train_times(100)  # To set the data traversing rounds\n",
    "    con.set_nbatches(100)     # To split the training triples into several batches\n",
    "    con.set_alpha(0.1)        # To set the learning rate\n",
    "    con.set_dimension(100)    # To set the dimensions of the entities and relations at the same time\n",
    "    # con.set_margin(1)         # To set the margin for the loss function\n",
    "\n",
    "    con.set_bern(0)            # To set negative sampling algorithms, unif (bern = 0) or bern (bern = 1)\n",
    "    con.set_ent_neg_rate(1)   # For each positive triple, we construct rate negative triplentity\n",
    "    con.set_rel_neg_rate(0)\n",
    "\n",
    "    con.set_opt_method(\"Adagrad\") \n",
    "\n",
    "    con.set_export_files(\"./OpenKE/res/model.vec.tf\", 0)  # To set the export file of model paramters, every few rounds\n",
    "    con.set_out_files(\"./OpenKE/res/embedding.vec.json\") \n",
    "\n",
    "    con.init()\n",
    "\n",
    "    #Set the knowledge embedding model\n",
    "    con.set_model(models.DistMult)\n",
    "\n",
    "    con.run()\n",
    "\n",
    "\n",
    "    #con.test()\n",
    "\n",
    "\n",
    "    embeddings = con.get_parameters('numpy')\n",
    "    ents = embeddings['ent_embeddings'] # Table of all entity vectors\n",
    "    ent_total = len(ents)"
   ]
  },
  {
   "cell_type": "markdown",
   "metadata": {},
   "source": [
    "The next two sections(\"Cosine\" and \"DistMult Avg\"), use the embeddings in `ents` and `rels`. In fact \"Cosine\" only uses `ents`."
   ]
  },
  {
   "cell_type": "markdown",
   "metadata": {},
   "source": [
    "-----"
   ]
  },
  {
   "cell_type": "markdown",
   "metadata": {},
   "source": [
    "### Cosine  <a id=\"cos\"></a>"
   ]
  },
  {
   "cell_type": "markdown",
   "metadata": {},
   "source": [
    "Vinay has written a few functions that I copy here. We only use the first three."
   ]
  },
  {
   "cell_type": "code",
   "execution_count": 153,
   "metadata": {
    "ExecuteTime": {
     "end_time": "2020-05-13T02:31:10.638042Z",
     "start_time": "2020-05-13T02:31:10.626565Z"
    },
    "code_folding": [
     0,
     4,
     8,
     14
    ]
   },
   "outputs": [],
   "source": [
    "def dot(x,y):\n",
    "    return np.sum(x * y) \n",
    "\n",
    "# Vector Magnitude\n",
    "def mag(x):\n",
    "    return np.sqrt(np.sum(x * x))\n",
    "\n",
    "# Cosine Similarity\n",
    "def cosine_similar_to(h,t,ent_embeddings = ents):\n",
    "    ent_h = ent_embeddings[h]\n",
    "    ent_t = ent_embeddings[t]\n",
    "    cos_sim = np.absolute(dot(ent_h,ent_t)) / (mag(ent_h) * mag(ent_t))\n",
    "    return(cos_sim)\n"
   ]
  },
  {
   "cell_type": "code",
   "execution_count": 154,
   "metadata": {
    "ExecuteTime": {
     "end_time": "2020-05-13T02:31:13.130948Z",
     "start_time": "2020-05-13T02:31:13.122697Z"
    },
    "code_folding": [
     0
    ]
   },
   "outputs": [],
   "source": [
    "def rand_comb(n): \n",
    "    \"\"\" Return a generator(iterator) object that simulates random n choose 2.\n",
    "    \n",
    "    In other words, randomly select an entry from upper or lower half\n",
    "    of a symmetric matrix and return it.\n",
    "    You can also check the histogram to see the choice are not biased \n",
    "    toward upper/lower half.\n",
    "    \"\"\"\n",
    "    mem_set = set()\n",
    "    c = 0\n",
    "    while c < n*(n-1)/2:\n",
    "        while True:\n",
    "            i = random.randint(0,n-1)\n",
    "            j = random.randint(0,n-1)\n",
    "            while j==i:\n",
    "                j = random.randint(0,n-1)\n",
    "            if set([i,j]) not in mem_set:\n",
    "                break     \n",
    "        mem_set.add(frozenset([i,j]))\n",
    "        c+=1\n",
    "        yield (i,j)"
   ]
  },
  {
   "cell_type": "markdown",
   "metadata": {},
   "source": [
    "If you want to generate the data frame partialy then you might want to randomize the process.\n",
    "`gen_all_cos()` has all the options and you can stop it whenever you want and get partial results."
   ]
  },
  {
   "cell_type": "markdown",
   "metadata": {},
   "source": [
    "#### gen_all_cos()"
   ]
  },
  {
   "cell_type": "code",
   "execution_count": 155,
   "metadata": {
    "ExecuteTime": {
     "end_time": "2020-05-13T02:31:16.126813Z",
     "start_time": "2020-05-13T02:31:16.102958Z"
    }
   },
   "outputs": [],
   "source": [
    "def gen_all_cos(rand=False):\n",
    "    \"\"\"Return a data frame containing head, tail, and score for similar tuples.\n",
    "    \n",
    "    Rand -- (default=False): chose tuples randomly.\n",
    "    Also prints the percentage of checked tuples. If interupted (KeyboardInterrupt)\n",
    "    it still returns the (incomplete) data frame.\n",
    "    \"\"\"\n",
    "    # Pros:\n",
    "    # 1) you can stop it anytime and get partial results\n",
    "    # 2) It attempts to exhaust all combinations in a random way. So the histogram of \n",
    "    # heads/tails is pretty uniform whenever you stop.\n",
    "    # Cons:\n",
    "    # 1) A little bit slower than the next method.\n",
    "    # 2) probbaly even slower when randomizing and near the end of the process.\n",
    "    tot = ent_total*(ent_total-1)/2\n",
    "    c=0\n",
    "    try:\n",
    "        head = []\n",
    "        tail = []\n",
    "        sc = []\n",
    "        if rand:\n",
    "            for i,j in rand_comb(ent_total):\n",
    "                if not(c%100000):\n",
    "                    print(100*c/tot) # print progress % every 100k iteration\n",
    "                c+=1\n",
    "                score = cosine_similar_to(i,j)\n",
    "                if score > COS_THR:\n",
    "                    head.append(i)\n",
    "                    tail.append(j)\n",
    "                    sc.append(score)\n",
    "        else:\n",
    "            for i,j in combinations(range(ent_total),2):\n",
    "                if not(c%100000):\n",
    "                    print(100*c/tot) # print progress % every 100k iteration\n",
    "                c+=1\n",
    "                score = cosine_similar_to(i,j)\n",
    "                if score > COS_THR:\n",
    "                    head.append(i)\n",
    "                    tail.append(j)\n",
    "                    sc.append(score)\n",
    "    except KeyboardInterrupt:\n",
    "        print('KeyboardInterrupt at ' + f'{100*c/tot:.3f} %')\n",
    "        \n",
    "        if len(head) > len(tail):\n",
    "            print(\"head popped!\")\n",
    "            head.pop()\n",
    "        elif len(head) < len(tail):\n",
    "            print(\"tail popped!\")\n",
    "            tail.pop()\n",
    "        \n",
    "        if len(sc) < len(head):\n",
    "            print(\"pop pop!\")\n",
    "            head.pop()\n",
    "            tail.pop()\n",
    "        \n",
    "        if not(len(sc) == len(head) == len(tail)):\n",
    "            print(\"\"\"len s,h,t still don't match :( Ain't \n",
    "                  possible but if happened, then last row contains NaNs \"\"\")\n",
    "            h = pd.DataFrame({'head':head})\n",
    "            t = pd.DataFrame({'tail':head})\n",
    "            s = pd.DataFrame({'sc':head})\n",
    "            new = pd.concat([h, t,s], axis=1)\n",
    "            return new\n",
    "        \n",
    "        print(\"head: \" + str(len(head)) + \" tail: \" + str(len(tail)) + \" sc: \" + str(len(sc)) )\n",
    "    \n",
    "    d = {'head':head , 'tail':tail, 'score': sc}\n",
    "    df = pd.DataFrame(data=d)\n",
    "    return df "
   ]
  },
  {
   "cell_type": "code",
   "execution_count": 156,
   "metadata": {
    "ExecuteTime": {
     "end_time": "2020-05-13T02:32:16.718534Z",
     "start_time": "2020-05-13T02:31:54.334910Z"
    }
   },
   "outputs": [
    {
     "name": "stdout",
     "output_type": "stream",
     "text": [
      "0.0\n",
      "0.08947847248615265\n",
      "0.1789569449723053\n",
      "0.26843541745845795\n",
      "0.3579138899446106\n",
      "0.44739236243076325\n",
      "0.5368708349169159\n",
      "0.6263493074030685\n",
      "0.7158277798892212\n",
      "KeyboardInterrupt at 0.736 %\n",
      "head: 70 tail: 70 sc: 70\n"
     ]
    }
   ],
   "source": [
    "if COS:\n",
    "    df_cos_sim = gen_all_cos()\n",
    "    #filt_cos_df = df_cos_sim.loc[df_cos_sim['score'] > .85].copy() # more filtering if necc.\n",
    "    filt_cos_df = df_cos_sim.copy()\n",
    "    filt_cos_df.drop(columns='score',inplace=True)\n",
    "    print(filt_cos_df) # feed it to append module"
   ]
  },
  {
   "cell_type": "code",
   "execution_count": null,
   "metadata": {
    "ExecuteTime": {
     "end_time": "2020-05-13T00:47:01.780585Z",
     "start_time": "2020-05-13T00:14:36.382Z"
    }
   },
   "outputs": [],
   "source": [
    "# pass to append module"
   ]
  },
  {
   "cell_type": "markdown",
   "metadata": {},
   "source": [
    "### DistMult Avg  <a id=\"avg\"></a>"
   ]
  },
  {
   "cell_type": "markdown",
   "metadata": {},
   "source": [
    "In this method, for each pair $(e_i,e_j)$ of entities we calculate the DistMult loss $l_k$ of \n",
    "$(e_i, r_k ,e_j)$ for all $k$. Since the $l_k$ is actully loss value, we take those that are negative and average them to get the score value $Sc(e_i,e_j)$. Then this score value is used to decide wheather $e_i$ and $e_j$ are similar or not."
   ]
  },
  {
   "cell_type": "code",
   "execution_count": 159,
   "metadata": {
    "ExecuteTime": {
     "end_time": "2020-05-13T02:33:59.402470Z",
     "start_time": "2020-05-13T02:33:59.398314Z"
    }
   },
   "outputs": [],
   "source": [
    "rels = embeddings['rel_embeddings'] # Get the relation embeddings from OpenKE\n",
    "rel_total = len(rels)"
   ]
  },
  {
   "cell_type": "markdown",
   "metadata": {},
   "source": [
    "Similar to the previous section, this process could also be written in various ways. Here I have provided the main function `gen_all_avg_DistMult_sim()` which similar to `gen_all_cos()` generates all the similarities and can be interrupted without loss. \n",
    "\n",
    "Of course, you can also copy the 2nd method above here if interested."
   ]
  },
  {
   "cell_type": "markdown",
   "metadata": {},
   "source": [
    "#### gen_all_avg_DistMult_sim()"
   ]
  },
  {
   "cell_type": "code",
   "execution_count": 160,
   "metadata": {
    "ExecuteTime": {
     "end_time": "2020-05-13T02:34:01.736287Z",
     "start_time": "2020-05-13T02:34:01.724280Z"
    }
   },
   "outputs": [],
   "source": [
    "def DistMult_avg_sim(h,t):\n",
    "    \"\"\" Return the avg DistMult similarity score of a tuple.\n",
    "    \n",
    "    It's a negative number. Since it actually is capturing loss.\n",
    "    \"\"\"\n",
    "    test_h = np.array([h] * rel_total)\n",
    "    test_r = np.array(range(rel_total))\n",
    "    test_t = np.array([t] * rel_total)\n",
    "    res = con.test_step(test_h, test_t, test_r).reshape(-1) # list of all loss values\n",
    "    N = res[res < 0].size\n",
    "    if N==0:\n",
    "        return 1\n",
    "    score = np.sum(res[res < 0])/N\n",
    "    return score\n",
    "\n",
    "def gen_all_DistMult_sim(rand=False):\n",
    "    \"\"\"Return a data frame containing head, tail, and score for similar tuples.\n",
    "    \n",
    "    Rand -- (default=False): chose tuples randomly.\n",
    "    Also prints the percentage of checked tuples. If interupted (KeyboardInterrupt)\n",
    "    it still returns the (incomplete) data frame.\n",
    "    \"\"\"\n",
    "    # Pros:\n",
    "    # 1) You can stop it anytime and get partial results\n",
    "    # 2) rand=True => it exhaust all combinations in a random way. So the histogram of \n",
    "    # heads/tails is pretty uniform whenever you stop.\n",
    "    # Cons:\n",
    "    # 1) A little bit slow because of percentage, ... . Comment them out if you like.\n",
    "    # 2) Slow when rand=True and near the end of the process.\n",
    "    tot = ent_total*(ent_total-1)/2\n",
    "    c=0\n",
    "    try:\n",
    "        head = []\n",
    "        tail = []\n",
    "        sc = []\n",
    "        if rand:\n",
    "            for i,j in rand_comb(ent_total):\n",
    "                if not(c%100000):\n",
    "                    print(100*c/tot) # print progress % every 100k iteration\n",
    "                c+=1\n",
    "                score = DistMult_avg_sim(i,j)\n",
    "                if score < DIST_AVG_THR: # Score value here is loss, so less is better.\n",
    "                                      # To decide on this threshold, remove the cond and look\n",
    "                                      # at the output histogram. I'm putting -3 for now.\n",
    "                    head.append(i)\n",
    "                    tail.append(j)\n",
    "                    sc.append(score)\n",
    "        else:\n",
    "            for i,j in combinations(range(ent_total),2):\n",
    "                if not(c%100000):\n",
    "                    print(100*c/tot) # print progress % every 100k iteration\n",
    "                c+=1\n",
    "                score = DistMult_avg_sim(i,j)\n",
    "                if score < DIST_AVG_THR: # Score value here is loss, so less is better.\n",
    "                                      # To decide on this threshold, remove the cond and look\n",
    "                                      # at the output histogram. I'm putting -3 for now.\n",
    "                    head.append(i)\n",
    "                    tail.append(j)\n",
    "                    sc.append(score)\n",
    "    except KeyboardInterrupt:\n",
    "        print('KeyboardInterrupt at ' + f'{100*c/tot:.3f} %')\n",
    "        if len(head) > len(tail):\n",
    "            print(\"head popped!\")\n",
    "            head.pop()\n",
    "        elif len(head) < len(tail):\n",
    "            print(\"tail popped!\")\n",
    "            tail.pop()\n",
    "        if len(sc) < len(head):\n",
    "            print(\"pop pop!\")\n",
    "            head.pop()\n",
    "            tail.pop()\n",
    "        if not(len(sc) == len(head) == len(tail)):\n",
    "            print(\"\"\"len s,h,t still don't match :( Ain't \n",
    "                  possible but if happened, then last row contains NaNs \"\"\")\n",
    "            h = pd.DataFrame({'head':head})\n",
    "            t = pd.DataFrame({'tail':head})\n",
    "            s = pd.DataFrame({'sc':head})\n",
    "            new = pd.concat([h, t,s], axis=1)\n",
    "            return new\n",
    "        print(\"head: \" + str(len(head)) + \" tail: \" + str(len(tail)) + \" sc: \" + str(len(sc)) )\n",
    "    d = {'head':head , 'tail':tail, 'score': sc}\n",
    "    df = pd.DataFrame(data=d)\n",
    "    return df "
   ]
  },
  {
   "cell_type": "markdown",
   "metadata": {},
   "source": [
    "Call it if the flag is right:"
   ]
  },
  {
   "cell_type": "code",
   "execution_count": 172,
   "metadata": {
    "ExecuteTime": {
     "end_time": "2020-05-13T02:42:39.642439Z",
     "start_time": "2020-05-13T02:42:24.083511Z"
    }
   },
   "outputs": [
    {
     "name": "stdout",
     "output_type": "stream",
     "text": [
      "0.0\n",
      "KeyboardInterrupt at 0.012 %\n",
      "head: 12 tail: 12 sc: 12\n",
      "    head  tail     score\n",
      "0      0   524 -3.178241\n",
      "1      0   599 -3.406842\n",
      "2      0   604 -3.061766\n",
      "3      0   635 -3.175045\n",
      "4      0   871 -3.018626\n",
      "5      0  1043 -3.038088\n",
      "6      0  1353 -3.190938\n",
      "7      0  1605 -3.292676\n",
      "8      0  1660 -3.085852\n",
      "9      0  3647 -3.358493\n",
      "10     0  7324 -3.291970\n",
      "11     0  8780 -3.741500\n",
      "    head  tail\n",
      "0      0   524\n",
      "1      0   599\n",
      "2      0   604\n",
      "3      0   635\n",
      "4      0   871\n",
      "5      0  1043\n",
      "6      0  1353\n",
      "7      0  1605\n",
      "8      0  1660\n",
      "9      0  3647\n",
      "10     0  7324\n",
      "11     0  8780\n"
     ]
    }
   ],
   "source": [
    "if DIST_AVG:\n",
    "    dist_df = gen_all_DistMult_sim()\n",
    "    print(dist_df)\n",
    "    filt_dist_df = dist_df.copy()\n",
    "    #filt_dist_df = dist_df.loc[dist_df['score'] < -4].copy()\n",
    "    filt_dist_df.drop(columns='score',inplace=True)\n",
    "    print(filt_dist_df) # feed it to append module\n",
    "else:\n",
    "    print(\"DIST_AVG was not applied.\")"
   ]
  },
  {
   "cell_type": "markdown",
   "metadata": {},
   "source": [
    "---"
   ]
  },
  {
   "cell_type": "markdown",
   "metadata": {},
   "source": [
    "# Append module "
   ]
  },
  {
   "cell_type": "markdown",
   "metadata": {},
   "source": [
    "Here we provide the append function. The result from each one of the previous sections, is a data frame with two columns, _head_ and _tail_. That data frame must be appende to `train.txt` in the format of \n",
    "```\n",
    "head_mid /similar_to tail_mid\n",
    "```\n",
    "The following function is written to do exactly that."
   ]
  },
  {
   "cell_type": "code",
   "execution_count": 173,
   "metadata": {
    "ExecuteTime": {
     "end_time": "2020-05-13T02:44:01.126982Z",
     "start_time": "2020-05-13T02:44:01.117451Z"
    }
   },
   "outputs": [],
   "source": [
    "def append_train(input_df,new_name):\n",
    "    \"\"\" Appends the input data frame to a copy of train.txt.\n",
    "    \n",
    "    input_df: --pd.DataFrame: has two columns 'head', and 'tail' containing\n",
    "    the integer ids for heads and tails of similar tuples.\n",
    "    new_name: --str: name of the new file will be train_{new_name}.txt \n",
    "    \"\"\"\n",
    "    import datetime\n",
    "    new_name = new_name + str(datetime.datetime.now().strftime(\"%Y-%m-%d_%H-%M-%S\"))\n",
    "    dest = './FB15k/train_'+ new_name + '.txt'\n",
    "    while os.path.isfile(dest):\n",
    "        new_name = input(\"File already exists. Give another name: \")\n",
    "        dest = './FB15k/train_'+ new_name + '.txt'\n",
    "    \n",
    "    heads = list(input_df['head']) \n",
    "    tails = list(input_df['tail']) \n",
    "\n",
    "    # Translate int ids to /mid\n",
    "    ents = pd.read_csv(\"./OpenKE/benchmarks/FB15K/entity2id.txt\",sep = '\\t',header=None, skiprows=[0],usecols=[0]) # first row is lineTot\n",
    "    heads_mid = list(ents.iloc[heads,0]) \n",
    "    rels_mid = ['/similar_to']*len(heads)\n",
    "    tails_mid = list(ents.iloc[tails,0]) \n",
    "\n",
    "    d = {'head': heads_mid , 'relation': rels_mid, 'tail':tails_mid}\n",
    "    df = pd.DataFrame(data=d)\n",
    "\n",
    "    from shutil import copyfile\n",
    "    copyfile('./FB15k/train.txt', dest)\n",
    "    df.to_csv(dest, mode='a', header=False,index=False, sep='\\t')\n",
    "    return dest"
   ]
  },
  {
   "cell_type": "code",
   "execution_count": 176,
   "metadata": {
    "ExecuteTime": {
     "end_time": "2020-05-13T02:44:37.479146Z",
     "start_time": "2020-05-13T02:44:36.391298Z"
    }
   },
   "outputs": [],
   "source": [
    "# Create the enriched training files.\n",
    "# it append each df to training.txt and save with a unique name.\n",
    "# And put the name of all these new files in a list to be later used by AMIE\n",
    "\n",
    "train_file_name = [] # list of new enriched training files.\n",
    "if SUBJ:\n",
    "    train_sub = append_train(filt_sub_df, 'subj')\n",
    "    train_file_name.append(train_sub)\n",
    "if COS:    \n",
    "    train_cos = append_train(filt_cos_df, 'cos')\n",
    "    train_file_name.append(train_cos)\n",
    "if DIST_AVG:\n",
    "    train_dist = append_train(filt_dist_df, 'dist')\n",
    "    train_file_name.append(train_dist)\n",
    "\n",
    "    \n",
    "#train_file_name = [train_sub,train_cos,train_dist]"
   ]
  },
  {
   "cell_type": "code",
   "execution_count": 177,
   "metadata": {
    "ExecuteTime": {
     "end_time": "2020-05-13T02:44:38.932504Z",
     "start_time": "2020-05-13T02:44:38.925807Z"
    }
   },
   "outputs": [
    {
     "data": {
      "text/plain": [
       "['./FB15k/train_subj2020-05-12_22-44-36.txt',\n",
       " './FB15k/train_cos2020-05-12_22-44-37.txt',\n",
       " './FB15k/train_dist2020-05-12_22-44-37.txt']"
      ]
     },
     "execution_count": 177,
     "metadata": {},
     "output_type": "execute_result"
    }
   ],
   "source": [
    "train_file_name"
   ]
  },
  {
   "cell_type": "markdown",
   "metadata": {},
   "source": [
    "# AMIE and Evaluations "
   ]
  },
  {
   "cell_type": "markdown",
   "metadata": {},
   "source": [
    "Running AMIE on each training file produces two outputs. Firsts the rules `./rules/{KB_name}_rules.txt` and then the evaluation of the rules `./evaluation/{KB_name}_rules_eval.txt`. Then calling the function `eval_frame(\"./evaluation/{KB_name}_rules_eval.txt\")` will measure the accuracy of rules by Hits@10.\n",
    "\n",
    "After enriching the KB with similarity links, we run the above procedure twice. Once on `train.txt` to get __Baseline evaluations__ and again on `train_enriched_{name}.txt`. Then compare the outputs from `eval_frame()`."
   ]
  },
  {
   "cell_type": "code",
   "execution_count": 178,
   "metadata": {
    "ExecuteTime": {
     "end_time": "2020-05-13T02:45:32.219986Z",
     "start_time": "2020-05-13T02:45:32.209024Z"
    }
   },
   "outputs": [],
   "source": [
    "def eval_frame(file, test_len):\n",
    "    \n",
    "    # Open file\n",
    "    f = open(file)\n",
    "    \n",
    "    # Hits counter\n",
    "    hits = 0\n",
    "    \n",
    "    # Loop though all facts in KB\n",
    "    for x in range(test_len):\n",
    "\n",
    "        # Read line\n",
    "        fact = f.readline()\n",
    "        fact = fact.split(' ')\n",
    "        if fact != ['']:\n",
    "            # Get target head and tail\n",
    "            head_target = fact[0]\n",
    "            tail_target = fact[2][:-1]\n",
    "\n",
    "\n",
    "            # Get head predictions\n",
    "            headpreds = f.readline()\n",
    "            headpreds = headpreds.split(' ')\n",
    "            headpreds = headpreds[1].split('\\t')\n",
    "            headpreds.pop()\n",
    "\n",
    "            # Get tail predictions\n",
    "            tailpreds = f.readline()\n",
    "            tailpreds = tailpreds.split(' ')\n",
    "            tailpreds = tailpreds[1].split('\\t')\n",
    "            tailpreds.pop()\n",
    "\n",
    "\n",
    "            if (head_target in headpreds) and (tail_target in tailpreds):\n",
    "                if (len(headpreds) < 10) and (len(tailpreds) < 10):\n",
    "                    hits+=1\n",
    "        else:\n",
    "            print('miss')\n",
    "                \n",
    "    return hits/(test_len)"
   ]
  },
  {
   "cell_type": "markdown",
   "metadata": {},
   "source": [
    "## Baseline evaluation "
   ]
  },
  {
   "cell_type": "markdown",
   "metadata": {
    "ExecuteTime": {
     "end_time": "2020-05-11T17:28:01.208400Z",
     "start_time": "2020-05-11T17:28:01.202508Z"
    }
   },
   "source": [
    "Just type in the right files in the next cell and continue."
   ]
  },
  {
   "cell_type": "code",
   "execution_count": 179,
   "metadata": {
    "ExecuteTime": {
     "end_time": "2020-05-13T02:45:35.587466Z",
     "start_time": "2020-05-13T02:45:35.582619Z"
    }
   },
   "outputs": [],
   "source": [
    "train_add = \"./FB15k/train.txt\"\n",
    "test_add = \"FB15k/test.txt\"\n",
    "valid_add = \"FB15k/valid.txt\"\n",
    "\n",
    "rules_add = \"rules/baseline_rules.txt\"\n",
    "eval_add = \"evaluation/baseline_rules_eval.txt\""
   ]
  },
  {
   "cell_type": "code",
   "execution_count": 180,
   "metadata": {
    "ExecuteTime": {
     "end_time": "2020-05-13T02:45:40.344364Z",
     "start_time": "2020-05-13T02:45:40.338809Z"
    }
   },
   "outputs": [],
   "source": [
    "# The text of the commands for running AMIE\n",
    "\n",
    "AMIE_plus = (\"java -XX:-UseGCOverheadLimit -Xmx64g -jar AMIE/amie_plus.jar \"\n",
    "\"-minhc 0.25 -mins 50 -minis 0 \" \n",
    "f\"{train_add} > {rules_add}\")\n",
    "\n",
    "Apply_AMIE_RULES = (f'java -jar AMIE/ApplyAMIERules.jar {rules_add}' \n",
    "                    f' {train_add} {test_add} {valid_add}'\n",
    "                    f' {eval_add}')\n",
    "\n",
    "if not os.path.exists('./rules'):\n",
    "    os.mkdir('./rules')"
   ]
  },
  {
   "cell_type": "code",
   "execution_count": 181,
   "metadata": {
    "ExecuteTime": {
     "end_time": "2020-05-13T02:45:44.475917Z",
     "start_time": "2020-05-13T02:45:44.467066Z"
    }
   },
   "outputs": [
    {
     "data": {
      "text/plain": [
       "'java -jar AMIE/ApplyAMIERules.jar rules/baseline_rules.txt ./FB15k/train.txt FB15k/test.txt FB15k/valid.txt evaluation/baseline_rules_eval.txt'"
      ]
     },
     "execution_count": 181,
     "metadata": {},
     "output_type": "execute_result"
    }
   ],
   "source": [
    "# AMIE_plus\n",
    "Apply_AMIE_RULES"
   ]
  },
  {
   "cell_type": "markdown",
   "metadata": {},
   "source": [
    "The next cell will generate the rules and save them in `rules_add`."
   ]
  },
  {
   "cell_type": "code",
   "execution_count": null,
   "metadata": {
    "ExecuteTime": {
     "end_time": "2020-05-13T00:47:01.824392Z",
     "start_time": "2020-05-13T00:14:36.457Z"
    }
   },
   "outputs": [],
   "source": [
    "os.system(AMIE_plus)"
   ]
  },
  {
   "cell_type": "markdown",
   "metadata": {},
   "source": [
    "Clean the output from previous cell (i.e. `rules_add`) before running applying AMIE rules. The header and footer of the file `rules_add` must be deleted. It should only contain rules."
   ]
  },
  {
   "cell_type": "code",
   "execution_count": 182,
   "metadata": {
    "ExecuteTime": {
     "end_time": "2020-05-13T02:45:52.805319Z",
     "start_time": "2020-05-13T02:45:52.762666Z"
    }
   },
   "outputs": [
    {
     "ename": "FileNotFoundError",
     "evalue": "[Errno 2] No such file or directory: 'rules/baseline_rules.txt'",
     "output_type": "error",
     "traceback": [
      "\u001b[0;31m---------------------------------------------------------------------------\u001b[0m",
      "\u001b[0;31mFileNotFoundError\u001b[0m                         Traceback (most recent call last)",
      "\u001b[0;32m<ipython-input-182-259bc1997855>\u001b[0m in \u001b[0;36m<module>\u001b[0;34m\u001b[0m\n\u001b[1;32m     13\u001b[0m     \u001b[0mprint\u001b[0m\u001b[0;34m(\u001b[0m\u001b[0;34m'Rules at %s file cleaned.'\u001b[0m \u001b[0;34m%\u001b[0m \u001b[0mpath\u001b[0m\u001b[0;34m)\u001b[0m\u001b[0;34m\u001b[0m\u001b[0;34m\u001b[0m\u001b[0m\n\u001b[1;32m     14\u001b[0m \u001b[0;34m\u001b[0m\u001b[0m\n\u001b[0;32m---> 15\u001b[0;31m \u001b[0mclean_amie_output\u001b[0m\u001b[0;34m(\u001b[0m\u001b[0mrules_add\u001b[0m\u001b[0;34m)\u001b[0m\u001b[0;34m\u001b[0m\u001b[0;34m\u001b[0m\u001b[0m\n\u001b[0m",
      "\u001b[0;32m<ipython-input-182-259bc1997855>\u001b[0m in \u001b[0;36mclean_amie_output\u001b[0;34m(path)\u001b[0m\n\u001b[1;32m      3\u001b[0m     \u001b[0mWarning\u001b[0m\u001b[0;34m:\u001b[0m \u001b[0mthis\u001b[0m \u001b[0mfunction\u001b[0m \u001b[0moverwrites\u001b[0m \u001b[0mthe\u001b[0m \u001b[0mfile\u001b[0m \u001b[0;32min\u001b[0m \u001b[0mpath\u001b[0m\u001b[0;34m\u001b[0m\u001b[0;34m\u001b[0m\u001b[0m\n\u001b[1;32m      4\u001b[0m     \"\"\"\n\u001b[0;32m----> 5\u001b[0;31m     \u001b[0;32mwith\u001b[0m \u001b[0mopen\u001b[0m\u001b[0;34m(\u001b[0m\u001b[0mpath\u001b[0m\u001b[0;34m,\u001b[0m \u001b[0;34m'r'\u001b[0m\u001b[0;34m)\u001b[0m \u001b[0;32mas\u001b[0m \u001b[0mf\u001b[0m\u001b[0;34m:\u001b[0m\u001b[0;34m\u001b[0m\u001b[0;34m\u001b[0m\u001b[0m\n\u001b[0m\u001b[1;32m      6\u001b[0m         \u001b[0mf_contents\u001b[0m \u001b[0;34m=\u001b[0m \u001b[0mf\u001b[0m\u001b[0;34m.\u001b[0m\u001b[0mreadlines\u001b[0m\u001b[0;34m(\u001b[0m\u001b[0;34m)\u001b[0m\u001b[0;34m\u001b[0m\u001b[0;34m\u001b[0m\u001b[0m\n\u001b[1;32m      7\u001b[0m \u001b[0;34m\u001b[0m\u001b[0m\n",
      "\u001b[0;31mFileNotFoundError\u001b[0m: [Errno 2] No such file or directory: 'rules/baseline_rules.txt'"
     ]
    }
   ],
   "source": [
    "def clean_amie_output(path):\n",
    "    \"\"\"\n",
    "    Warning: this function overwrites the file in path\n",
    "    \"\"\"\n",
    "    with open(path, 'r') as f:\n",
    "        f_contents = f.readlines()\n",
    "        \n",
    "    f_contents = f_contents[13:-3]\n",
    "\n",
    "    with open(path, 'w') as f:\n",
    "        f.writelines(f_contents)\n",
    "        \n",
    "    print('Rules at %s file cleaned.' % path)\n",
    "\n",
    "clean_amie_output(rules_add)"
   ]
  },
  {
   "cell_type": "code",
   "execution_count": 183,
   "metadata": {
    "ExecuteTime": {
     "end_time": "2020-05-13T02:46:26.155895Z",
     "start_time": "2020-05-13T02:46:21.651066Z"
    }
   },
   "outputs": [
    {
     "data": {
      "text/plain": [
       "33280"
      ]
     },
     "execution_count": 183,
     "metadata": {},
     "output_type": "execute_result"
    }
   ],
   "source": [
    "if not os.path.exists('./evaluation'):\n",
    "    os.mkdir('./evaluation')\n",
    "\n",
    "os.system(Apply_AMIE_RULES)"
   ]
  },
  {
   "cell_type": "code",
   "execution_count": 184,
   "metadata": {
    "ExecuteTime": {
     "end_time": "2020-05-13T02:46:29.476024Z",
     "start_time": "2020-05-13T02:46:29.414126Z"
    }
   },
   "outputs": [
    {
     "data": {
      "text/plain": [
       "59071"
      ]
     },
     "execution_count": 184,
     "metadata": {},
     "output_type": "execute_result"
    }
   ],
   "source": [
    "# Get the lenght of the test file. It is fed to eval_frame()\n",
    "import subprocess\n",
    "test_len = subprocess.run(['wc', '-l', test_add], stdout=subprocess.PIPE).stdout.decode('utf-8')\n",
    "test_len = int(test_len.split()[0])\n",
    "test_len"
   ]
  },
  {
   "cell_type": "code",
   "execution_count": null,
   "metadata": {
    "ExecuteTime": {
     "end_time": "2020-05-13T00:47:01.835299Z",
     "start_time": "2020-05-13T00:14:36.474Z"
    }
   },
   "outputs": [],
   "source": [
    "print(eval_add)\n",
    "print('Hits@10: ' + str(eval_frame(eval_add, test_len)))"
   ]
  },
  {
   "cell_type": "markdown",
   "metadata": {},
   "source": [
    "---"
   ]
  },
  {
   "cell_type": "markdown",
   "metadata": {},
   "source": [
    "## Enriched KB Evaluation "
   ]
  },
  {
   "cell_type": "markdown",
   "metadata": {},
   "source": [
    "Basically repeat everything from Baseline Evaluation for the enriched training file."
   ]
  },
  {
   "cell_type": "code",
   "execution_count": 185,
   "metadata": {
    "ExecuteTime": {
     "end_time": "2020-05-13T02:46:35.699110Z",
     "start_time": "2020-05-13T02:46:35.693868Z"
    }
   },
   "outputs": [
    {
     "name": "stdout",
     "output_type": "stream",
     "text": [
      "_subj2020-05-12_22-44-36.txt\n",
      "_cos2020-05-12_22-44-37.txt\n",
      "_dist2020-05-12_22-44-37.txt\n"
     ]
    }
   ],
   "source": [
    "# Enriched training file names:\n",
    "for name in train_file_name:\n",
    "    print(name[13:])"
   ]
  },
  {
   "cell_type": "code",
   "execution_count": 188,
   "metadata": {
    "ExecuteTime": {
     "end_time": "2020-05-13T02:59:09.826337Z",
     "start_time": "2020-05-13T02:57:47.975810Z"
    }
   },
   "outputs": [
    {
     "name": "stdout",
     "output_type": "stream",
     "text": [
      "The enriched tr file: FB15k/train_subj2020-05-12_22-44-36.txt\n",
      "Rules will be saved at: rules/Enriched_rules_subj2020-05-12_22-44-36.txt\n",
      "And rule evaluations at: evaluation/Enriched_eval_subj2020-05-12_22-44-36.txt\n",
      "\n",
      " AMIE_plus output: 33280\n",
      "Rules at rules/Enriched_rules_subj2020-05-12_22-44-36.txt file cleaned.\n",
      "\n",
      " Apply_AMIE_Rules output: 0\n",
      "\n",
      " Hits@10: 0.03925784225762218\n",
      "\n",
      "\n",
      "The enriched tr file: FB15k/train_cos2020-05-12_22-44-37.txt\n",
      "Rules will be saved at: rules/Enriched_rules_cos2020-05-12_22-44-37.txt\n",
      "And rule evaluations at: evaluation/Enriched_eval_cos2020-05-12_22-44-37.txt\n",
      "\n",
      " AMIE_plus output: 33280\n",
      "Rules at rules/Enriched_rules_cos2020-05-12_22-44-37.txt file cleaned.\n",
      "\n",
      " Apply_AMIE_Rules output: 0\n",
      "\n",
      " Hits@10: 0.0011172995209155084\n",
      "\n",
      "\n",
      "The enriched tr file: FB15k/train_dist2020-05-12_22-44-37.txt\n",
      "Rules will be saved at: rules/Enriched_rules_dist2020-05-12_22-44-37.txt\n",
      "And rule evaluations at: evaluation/Enriched_eval_dist2020-05-12_22-44-37.txt\n",
      "\n",
      " AMIE_plus output: 33280\n",
      "Rules at rules/Enriched_rules_dist2020-05-12_22-44-37.txt file cleaned.\n",
      "\n",
      " Apply_AMIE_Rules output: 0\n",
      "\n",
      " Hits@10: 0.0\n",
      "\n",
      "\n"
     ]
    }
   ],
   "source": [
    "# For each enriched training file, apply AMIE and show its HIT@10 performance\n",
    "for name in train_file_name:\n",
    "    train_add = \"FB15k/train\" +  name[13:] # From append module\n",
    "    rules_add = \"rules/Enriched_rules\" + name[13:] # modify this name if you like\n",
    "    eval_add = \"evaluation/Enriched_eval\" + name[13:] # same here\n",
    "\n",
    "    test_add = \"FB15k/test.txt\"\n",
    "    valid_add = \"FB15k/valid.txt\"\n",
    "\n",
    "    print(\"The enriched tr file: \" + train_add)\n",
    "    print(\"Rules will be saved at: \"+ rules_add)\n",
    "    print(\"And rule evaluations at: \" + eval_add)\n",
    "    \n",
    "    # The texts of the commands for running AMIE\n",
    "    AMIE_plus = (\"java -XX:-UseGCOverheadLimit -Xmx4g -jar AMIE/amie_plus.jar \"\n",
    "    \"-minhc 0.0 -mins 0 -minis 0 \" \n",
    "    f\"{train_add} > {rules_add}\")\n",
    "\n",
    "    Apply_AMIE_RULES = (f'java -jar AMIE/ApplyAMIERules.jar {rules_add}' \n",
    "                        f' {train_add} {test_add} {valid_add}'\n",
    "                        f' {eval_add}')\n",
    "\n",
    "    x = os.system(AMIE_plus)\n",
    "    print(\"\\n AMIE_plus output: \" + str(x))\n",
    "    \n",
    "    # trim `Enriched_rules{}.txt` again\n",
    "    clean_amie_output(rules_add)\n",
    "\n",
    "    y = os.system(Apply_AMIE_RULES) # if output is 256 then you forgot to trim\n",
    "    print(\"\\n Apply_AMIE_Rules output: \" + str(y))\n",
    "    \n",
    "    print('\\n Hits@10: ' + str(eval_frame(eval_add, test_len)))\n",
    "    print(\"\\n\")"
   ]
  },
  {
   "cell_type": "code",
   "execution_count": null,
   "metadata": {},
   "outputs": [],
   "source": []
  }
 ],
 "metadata": {
  "kernelspec": {
   "display_name": "Python 3",
   "language": "python",
   "name": "python3"
  },
  "language_info": {
   "codemirror_mode": {
    "name": "ipython",
    "version": 3
   },
   "file_extension": ".py",
   "mimetype": "text/x-python",
   "name": "python",
   "nbconvert_exporter": "python",
   "pygments_lexer": "ipython3",
   "version": "3.7.1"
  },
  "toc": {
   "base_numbering": 1,
   "nav_menu": {},
   "number_sections": true,
   "sideBar": true,
   "skip_h1_title": false,
   "title_cell": "Table of Contents",
   "title_sidebar": "Contents",
   "toc_cell": true,
   "toc_position": {
    "height": "calc(100% - 180px)",
    "left": "10px",
    "top": "150px",
    "width": "204.8px"
   },
   "toc_section_display": true,
   "toc_window_display": false
  },
  "varInspector": {
   "cols": {
    "lenName": 16,
    "lenType": 16,
    "lenVar": 40
   },
   "kernels_config": {
    "python": {
     "delete_cmd_postfix": "",
     "delete_cmd_prefix": "del ",
     "library": "var_list.py",
     "varRefreshCmd": "print(var_dic_list())"
    },
    "r": {
     "delete_cmd_postfix": ") ",
     "delete_cmd_prefix": "rm(",
     "library": "var_list.r",
     "varRefreshCmd": "cat(var_dic_list()) "
    }
   },
   "position": {
    "height": "246.85px",
    "left": "654px",
    "right": "20px",
    "top": "119px",
    "width": "350px"
   },
   "types_to_exclude": [
    "module",
    "function",
    "builtin_function_or_method",
    "instance",
    "_Feature"
   ],
   "window_display": false
  }
 },
 "nbformat": 4,
 "nbformat_minor": 4
}
