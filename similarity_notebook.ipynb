{
 "cells": [
  {
   "cell_type": "markdown",
   "metadata": {
    "toc": true
   },
   "source": [
    "<h1>Table of Contents<span class=\"tocSkip\"></span></h1>\n",
    "<div class=\"toc\"><ul class=\"toc-item\"><li><span><a href=\"#Similarity-implementations\" data-toc-modified-id=\"Similarity-implementations-1\"><span class=\"toc-item-num\">1&nbsp;&nbsp;</span>Similarity implementations</a></span><ul class=\"toc-item\"><li><span><a href=\"#Subject-Similarity-\" data-toc-modified-id=\"Subject-Similarity--1.1\"><span class=\"toc-item-num\">1.1&nbsp;&nbsp;</span>Subject Similarity <a id=\"sub\"></a></a></span></li><li><span><a href=\"#OpenKE-based-similarities---\" data-toc-modified-id=\"OpenKE-based-similarities----1.2\"><span class=\"toc-item-num\">1.2&nbsp;&nbsp;</span>OpenKE based similarities  <a id=\"OpenKE\"> </a></a></span><ul class=\"toc-item\"><li><span><a href=\"#OpenKE-Model-\" data-toc-modified-id=\"OpenKE-Model--1.2.1\"><span class=\"toc-item-num\">1.2.1&nbsp;&nbsp;</span>OpenKE Model <a id=\"Model\"></a></a></span></li><li><span><a href=\"#Cosine--\" data-toc-modified-id=\"Cosine---1.2.2\"><span class=\"toc-item-num\">1.2.2&nbsp;&nbsp;</span>Cosine  <a id=\"cos\"></a></a></span><ul class=\"toc-item\"><li><span><a href=\"#gen_all_cos()\" data-toc-modified-id=\"gen_all_cos()-1.2.2.1\"><span class=\"toc-item-num\">1.2.2.1&nbsp;&nbsp;</span>gen_all_cos()</a></span></li><li><span><a href=\"#2nd-method\" data-toc-modified-id=\"2nd-method-1.2.2.2\"><span class=\"toc-item-num\">1.2.2.2&nbsp;&nbsp;</span>2nd method</a></span></li></ul></li><li><span><a href=\"#DistMult-Avg--\" data-toc-modified-id=\"DistMult-Avg---1.2.3\"><span class=\"toc-item-num\">1.2.3&nbsp;&nbsp;</span>DistMult Avg  <a id=\"avg\"></a></a></span><ul class=\"toc-item\"><li><span><a href=\"#gen_all_avg_DistMult_sim()\" data-toc-modified-id=\"gen_all_avg_DistMult_sim()-1.2.3.1\"><span class=\"toc-item-num\">1.2.3.1&nbsp;&nbsp;</span>gen_all_avg_DistMult_sim()</a></span></li></ul></li></ul></li></ul></li><li><span><a href=\"#Append-module\" data-toc-modified-id=\"Append-module-2\"><span class=\"toc-item-num\">2&nbsp;&nbsp;</span>Append module</a></span></li><li><span><a href=\"#AMIE-and-Evaluations\" data-toc-modified-id=\"AMIE-and-Evaluations-3\"><span class=\"toc-item-num\">3&nbsp;&nbsp;</span>AMIE and Evaluations</a></span><ul class=\"toc-item\"><li><span><a href=\"#Baseline-evaluation\" data-toc-modified-id=\"Baseline-evaluation-3.1\"><span class=\"toc-item-num\">3.1&nbsp;&nbsp;</span>Baseline evaluation</a></span></li><li><span><a href=\"#Enriched-KB-Evaluation\" data-toc-modified-id=\"Enriched-KB-Evaluation-3.2\"><span class=\"toc-item-num\">3.2&nbsp;&nbsp;</span>Enriched KB Evaluation</a></span></li></ul></li></ul></div>"
   ]
  },
  {
   "cell_type": "markdown",
   "metadata": {},
   "source": [
    "# Similarity implementations"
   ]
  },
  {
   "cell_type": "markdown",
   "metadata": {},
   "source": [
    "Important files:\n",
    "- `./OpenKE/benchmarks/FB15K/train2id.txt` : \\[int int int\\]. Used by OpenKE based models (cosine, DistMult Avg) to find embeddings and Subject Similarity to find similarities.\n",
    "- `./OpenKE/benchmarks/FB15K/entity2id.txt` : \\[/mid int\\].  \n",
    "    - Used for translating similarity df from previous step to a df with this structure: \\[ /mid /similar_to /mid \\] .\n",
    "    - Also used by Word2vec notebook.\n",
    "- `./FB15K/mid2name.tsv` : \\[ /mid word \\]. Used by word2vec notebook.\n",
    "- `./FB15K/train.txt` : \\[/mid /mid /mid\\]. Used by AMIE. Thus, enrichement must happen on this file."
   ]
  },
  {
   "cell_type": "markdown",
   "metadata": {},
   "source": [
    "-----"
   ]
  },
  {
   "cell_type": "code",
   "execution_count": 150,
   "metadata": {
    "ExecuteTime": {
     "end_time": "2020-05-10T22:15:11.379874Z",
     "start_time": "2020-05-10T22:15:11.376906Z"
    }
   },
   "outputs": [],
   "source": [
    "from itertools import combinations\n",
    "import pandas as pd\n",
    "import random"
   ]
  },
  {
   "cell_type": "markdown",
   "metadata": {},
   "source": [
    "## Subject Similarity <a id=\"sub\"></a>"
   ]
  },
  {
   "cell_type": "markdown",
   "metadata": {},
   "source": [
    "The definition of similarity in this module is as follows:  \n",
    "\n",
    "Let $e_i$ be an entity in the KB. Associated to $e_i$ there's a set $S_{e_i}$ defined by:\n",
    "\n",
    "\n",
    "$$\n",
    "S_{e_i} = \\{ (r,e) | (e_i ,r,e) \\in KB \\}.\n",
    "$$\n",
    "\n",
    "It's the set of tuples $(r,e)$ such that $(e_i,r,e)$ is a triplet in the KB."
   ]
  },
  {
   "cell_type": "markdown",
   "metadata": {},
   "source": [
    "\n",
    "We say $e_i$ is similar to $e_j$ if $S_{e_i} \\cap S_{e_j} \\neq \\emptyset$. Moreover, we define the similarity score between $e_i$ and $e_j$ by $sc(e_i,e_j) = | S_{e_i} \\cap S_{e_j} |$."
   ]
  },
  {
   "cell_type": "code",
   "execution_count": 2,
   "metadata": {},
   "outputs": [],
   "source": [
    "# An implementation of the above is here:\n",
    "# \n",
    "# Read every line in train2id and store the sets S_{e_i} in a list.\n",
    "#\n",
    "\n",
    "ent_total = 14951    # From the first line of ent2id.txt\n",
    "file = \"./OpenKE/benchmarks/FB15K/train2id.txt\"\n",
    "s = [ [] for _ in range(ent_total)] # A list of lists(sets). Will contain all sets S_{e_i}.\n",
    "\n",
    "f = open(file,'r')\n",
    "num_lines = f.readline()    # First line of train2id is the number of triplets\n",
    "for i in range(int(num_lines)):\n",
    "    l = f.readline()\n",
    "    l = l.split()\n",
    "    try:\n",
    "        s[int(l[0])] += [ ( int(l[1]) , int(l[2]) ) ]\n",
    "    except:\n",
    "        print(\"something went wrong at triple\" + str(i))\n",
    "        raise\n",
    "f.close()"
   ]
  },
  {
   "cell_type": "code",
   "execution_count": 4,
   "metadata": {},
   "outputs": [],
   "source": [
    "#s"
   ]
  },
  {
   "cell_type": "code",
   "execution_count": 7,
   "metadata": {},
   "outputs": [],
   "source": [
    "# ent_total = ent_total // 50     # for speed boost in tests\n",
    "\n",
    "h = []\n",
    "t = []\n",
    "sc = []\n",
    "for i,j in combinations(range(ent_total),2):\n",
    "    score = len( set(s[i]) & set(s[j]) )\n",
    "    if score:\n",
    "        h.append(i)\n",
    "        t.append(j)\n",
    "        sc.append(score)\n"
   ]
  },
  {
   "cell_type": "code",
   "execution_count": 14,
   "metadata": {},
   "outputs": [],
   "source": [
    "d = {'head':h , 'tail':t, 'score': sc}\n",
    "df = pd.DataFrame(data=d)"
   ]
  },
  {
   "cell_type": "code",
   "execution_count": 29,
   "metadata": {},
   "outputs": [
    {
     "data": {
      "text/html": [
       "<div>\n",
       "<style scoped>\n",
       "    .dataframe tbody tr th:only-of-type {\n",
       "        vertical-align: middle;\n",
       "    }\n",
       "\n",
       "    .dataframe tbody tr th {\n",
       "        vertical-align: top;\n",
       "    }\n",
       "\n",
       "    .dataframe thead th {\n",
       "        text-align: right;\n",
       "    }\n",
       "</style>\n",
       "<table border=\"1\" class=\"dataframe\">\n",
       "  <thead>\n",
       "    <tr style=\"text-align: right;\">\n",
       "      <th></th>\n",
       "      <th>head</th>\n",
       "      <th>tail</th>\n",
       "      <th>score</th>\n",
       "    </tr>\n",
       "  </thead>\n",
       "  <tbody>\n",
       "    <tr>\n",
       "      <th>336</th>\n",
       "      <td>3</td>\n",
       "      <td>9513</td>\n",
       "      <td>3</td>\n",
       "    </tr>\n",
       "    <tr>\n",
       "      <th>439</th>\n",
       "      <td>4</td>\n",
       "      <td>129</td>\n",
       "      <td>3</td>\n",
       "    </tr>\n",
       "    <tr>\n",
       "      <th>442</th>\n",
       "      <td>4</td>\n",
       "      <td>253</td>\n",
       "      <td>4</td>\n",
       "    </tr>\n",
       "    <tr>\n",
       "      <th>450</th>\n",
       "      <td>4</td>\n",
       "      <td>1427</td>\n",
       "      <td>3</td>\n",
       "    </tr>\n",
       "    <tr>\n",
       "      <th>455</th>\n",
       "      <td>4</td>\n",
       "      <td>5775</td>\n",
       "      <td>3</td>\n",
       "    </tr>\n",
       "    <tr>\n",
       "      <th>...</th>\n",
       "      <td>...</td>\n",
       "      <td>...</td>\n",
       "      <td>...</td>\n",
       "    </tr>\n",
       "    <tr>\n",
       "      <th>385747</th>\n",
       "      <td>8072</td>\n",
       "      <td>8221</td>\n",
       "      <td>3</td>\n",
       "    </tr>\n",
       "    <tr>\n",
       "      <th>388707</th>\n",
       "      <td>8221</td>\n",
       "      <td>10385</td>\n",
       "      <td>3</td>\n",
       "    </tr>\n",
       "    <tr>\n",
       "      <th>391975</th>\n",
       "      <td>8390</td>\n",
       "      <td>9315</td>\n",
       "      <td>3</td>\n",
       "    </tr>\n",
       "    <tr>\n",
       "      <th>393494</th>\n",
       "      <td>8463</td>\n",
       "      <td>9730</td>\n",
       "      <td>3</td>\n",
       "    </tr>\n",
       "    <tr>\n",
       "      <th>403856</th>\n",
       "      <td>9084</td>\n",
       "      <td>10246</td>\n",
       "      <td>3</td>\n",
       "    </tr>\n",
       "  </tbody>\n",
       "</table>\n",
       "<p>417 rows × 3 columns</p>\n",
       "</div>"
      ],
      "text/plain": [
       "        head   tail  score\n",
       "336        3   9513      3\n",
       "439        4    129      3\n",
       "442        4    253      4\n",
       "450        4   1427      3\n",
       "455        4   5775      3\n",
       "...      ...    ...    ...\n",
       "385747  8072   8221      3\n",
       "388707  8221  10385      3\n",
       "391975  8390   9315      3\n",
       "393494  8463   9730      3\n",
       "403856  9084  10246      3\n",
       "\n",
       "[417 rows x 3 columns]"
      ]
     },
     "execution_count": 29,
     "metadata": {},
     "output_type": "execute_result"
    }
   ],
   "source": [
    "df.loc[df['score'] > 2] # Nullius in verba"
   ]
  },
  {
   "cell_type": "markdown",
   "metadata": {},
   "source": [
    "With this data frame in hand, we can play so many different games, i.e. filtering out low scores, etc. But at the end these must be appended to the training file in mid format. So each integer `id` must be translated to `/mid` an then appended to train.txt in the form `/mid /similar_to /mid`.\n",
    "\n",
    "For the appending operation we have defined another module that takes the filtered data frame as input. The filtered data frame must have only two columns named 'head' and 'tail'."
   ]
  },
  {
   "cell_type": "code",
   "execution_count": 25,
   "metadata": {},
   "outputs": [],
   "source": [
    "filt_df = df.loc[df['score'] > 2].copy()\n",
    "filt_df.drop(columns='score',inplace=True)"
   ]
  },
  {
   "cell_type": "code",
   "execution_count": 30,
   "metadata": {},
   "outputs": [
    {
     "data": {
      "text/html": [
       "<div>\n",
       "<style scoped>\n",
       "    .dataframe tbody tr th:only-of-type {\n",
       "        vertical-align: middle;\n",
       "    }\n",
       "\n",
       "    .dataframe tbody tr th {\n",
       "        vertical-align: top;\n",
       "    }\n",
       "\n",
       "    .dataframe thead th {\n",
       "        text-align: right;\n",
       "    }\n",
       "</style>\n",
       "<table border=\"1\" class=\"dataframe\">\n",
       "  <thead>\n",
       "    <tr style=\"text-align: right;\">\n",
       "      <th></th>\n",
       "      <th>head</th>\n",
       "      <th>tail</th>\n",
       "    </tr>\n",
       "  </thead>\n",
       "  <tbody>\n",
       "    <tr>\n",
       "      <th>336</th>\n",
       "      <td>3</td>\n",
       "      <td>9513</td>\n",
       "    </tr>\n",
       "    <tr>\n",
       "      <th>439</th>\n",
       "      <td>4</td>\n",
       "      <td>129</td>\n",
       "    </tr>\n",
       "    <tr>\n",
       "      <th>442</th>\n",
       "      <td>4</td>\n",
       "      <td>253</td>\n",
       "    </tr>\n",
       "    <tr>\n",
       "      <th>450</th>\n",
       "      <td>4</td>\n",
       "      <td>1427</td>\n",
       "    </tr>\n",
       "    <tr>\n",
       "      <th>455</th>\n",
       "      <td>4</td>\n",
       "      <td>5775</td>\n",
       "    </tr>\n",
       "    <tr>\n",
       "      <th>...</th>\n",
       "      <td>...</td>\n",
       "      <td>...</td>\n",
       "    </tr>\n",
       "    <tr>\n",
       "      <th>385747</th>\n",
       "      <td>8072</td>\n",
       "      <td>8221</td>\n",
       "    </tr>\n",
       "    <tr>\n",
       "      <th>388707</th>\n",
       "      <td>8221</td>\n",
       "      <td>10385</td>\n",
       "    </tr>\n",
       "    <tr>\n",
       "      <th>391975</th>\n",
       "      <td>8390</td>\n",
       "      <td>9315</td>\n",
       "    </tr>\n",
       "    <tr>\n",
       "      <th>393494</th>\n",
       "      <td>8463</td>\n",
       "      <td>9730</td>\n",
       "    </tr>\n",
       "    <tr>\n",
       "      <th>403856</th>\n",
       "      <td>9084</td>\n",
       "      <td>10246</td>\n",
       "    </tr>\n",
       "  </tbody>\n",
       "</table>\n",
       "<p>417 rows × 2 columns</p>\n",
       "</div>"
      ],
      "text/plain": [
       "        head   tail\n",
       "336        3   9513\n",
       "439        4    129\n",
       "442        4    253\n",
       "450        4   1427\n",
       "455        4   5775\n",
       "...      ...    ...\n",
       "385747  8072   8221\n",
       "388707  8221  10385\n",
       "391975  8390   9315\n",
       "393494  8463   9730\n",
       "403856  9084  10246\n",
       "\n",
       "[417 rows x 2 columns]"
      ]
     },
     "execution_count": 30,
     "metadata": {},
     "output_type": "execute_result"
    }
   ],
   "source": [
    "filt_df # Nullius in verba again"
   ]
  },
  {
   "cell_type": "markdown",
   "metadata": {},
   "source": [
    "We write the function call for appending in the next cell in comments. So whenever needed you just need to uncomment and call create the train_enriched.txt in `./FB15K` folder. This will be later used by AMIE to mine rules."
   ]
  },
  {
   "cell_type": "code",
   "execution_count": null,
   "metadata": {},
   "outputs": [],
   "source": [
    "# filt_df #feed it to append module"
   ]
  },
  {
   "cell_type": "markdown",
   "metadata": {},
   "source": [
    "----"
   ]
  },
  {
   "cell_type": "markdown",
   "metadata": {},
   "source": [
    "## OpenKE based similarities  <a id=\"OpenKE\"> </a>"
   ]
  },
  {
   "cell_type": "markdown",
   "metadata": {},
   "source": [
    "We have two similarity routine based on DistMult in OpenKE. One is cos_sim and the other is avg_dist_mult. For these to run and generate the similarity data frame, first we need to run the OpenKE model which learns the embeddings. This is the first task, done in the section below."
   ]
  },
  {
   "cell_type": "markdown",
   "metadata": {},
   "source": [
    "### OpenKE Model <a id=\"Model\"></a>"
   ]
  },
  {
   "cell_type": "code",
   "execution_count": 64,
   "metadata": {
    "ExecuteTime": {
     "end_time": "2020-05-11T18:25:20.110828Z",
     "start_time": "2020-05-11T18:25:20.103771Z"
    }
   },
   "outputs": [],
   "source": [
    "from OpenKE import models,config\n",
    "import multiprocessing\n",
    "import tensorflow as tf\n",
    "import numpy as np\n",
    "from itertools import combinations\n",
    "import pandas as pd"
   ]
  },
  {
   "cell_type": "code",
   "execution_count": 47,
   "metadata": {
    "ExecuteTime": {
     "end_time": "2020-05-11T18:21:02.260882Z",
     "start_time": "2020-05-11T18:21:02.253058Z"
    }
   },
   "outputs": [],
   "source": [
    "con = config.Config()\n",
    "con.set_in_path('./OpenKE/benchmarks/FB15K/')"
   ]
  },
  {
   "cell_type": "code",
   "execution_count": 48,
   "metadata": {
    "ExecuteTime": {
     "end_time": "2020-05-11T18:21:50.912848Z",
     "start_time": "2020-05-11T18:21:06.842605Z"
    }
   },
   "outputs": [
    {
     "name": "stdout",
     "output_type": "stream",
     "text": [
      "\n",
      "WARNING: The TensorFlow contrib module will not be included in TensorFlow 2.0.\n",
      "For more information, please see:\n",
      "  * https://github.com/tensorflow/community/blob/master/rfcs/20180907-contrib-sunset.md\n",
      "  * https://github.com/tensorflow/addons\n",
      "If you depend on functionality not listed there, please file an issue.\n",
      "\n",
      "WARNING:tensorflow:From /Users/mehrdadalvandipour/anaconda3/lib/python3.7/site-packages/tensorflow/python/framework/op_def_library.py:263: colocate_with (from tensorflow.python.framework.ops) is deprecated and will be removed in a future version.\n",
      "Instructions for updating:\n",
      "Colocations handled automatically by placer.\n",
      "WARNING:tensorflow:From /Users/mehrdadalvandipour/MyDir/Rule-Mining-on-Embedding-Enriched-KBs/OpenKE/models/DistMult.py:12: calling reduce_sum_v1 (from tensorflow.python.ops.math_ops) with keep_dims is deprecated and will be removed in a future version.\n",
      "Instructions for updating:\n",
      "keep_dims is deprecated, use keepdims instead\n",
      "(4831, 1)\n",
      "WARNING:tensorflow:From /Users/mehrdadalvandipour/anaconda3/lib/python3.7/site-packages/tensorflow/python/ops/math_ops.py:3066: to_int32 (from tensorflow.python.ops.math_ops) is deprecated and will be removed in a future version.\n",
      "Instructions for updating:\n",
      "Use tf.cast instead.\n",
      "Epoch: 0, loss: 107.19783335924149, time: 2.3903191089630127\n",
      "Epoch: 1, loss: 79.77477234601974, time: 1.6785011291503906\n",
      "Epoch: 2, loss: 58.410956144332886, time: 1.840184211730957\n",
      "Epoch: 3, loss: 38.88628539443016, time: 1.8165099620819092\n",
      "Epoch: 4, loss: 28.190808847546577, time: 1.6521151065826416\n",
      "Epoch: 5, loss: 22.281101867556572, time: 1.6601297855377197\n",
      "Epoch: 6, loss: 18.76488772034645, time: 1.6459269523620605\n",
      "Epoch: 7, loss: 16.268416106700897, time: 1.6393451690673828\n",
      "Epoch: 8, loss: 14.608845382928848, time: 1.6459901332855225\n",
      "Epoch: 9, loss: 13.288232788443565, time: 1.6435530185699463\n",
      "Epoch: 10, loss: 12.270408779382706, time: 1.645766019821167\n",
      "Epoch: 11, loss: 11.400273323059082, time: 1.7857420444488525\n",
      "Epoch: 12, loss: 10.84723000228405, time: 1.7511000633239746\n",
      "Epoch: 13, loss: 10.138570308685303, time: 1.7954320907592773\n",
      "Epoch: 14, loss: 9.544263988733292, time: 1.76279616355896\n",
      "Epoch: 15, loss: 9.072463907301426, time: 1.756371021270752\n",
      "Epoch: 16, loss: 8.794899858534336, time: 1.7690160274505615\n",
      "Epoch: 17, loss: 8.376682199537754, time: 1.8355371952056885\n",
      "Epoch: 18, loss: 8.13269218429923, time: 1.9012629985809326\n",
      "Epoch: 19, loss: 7.8524720296263695, time: 1.7669103145599365\n"
     ]
    }
   ],
   "source": [
    "con.set_test_link_prediction(True)\n",
    "con.set_test_triple_classification(True)\n",
    "\n",
    "con.set_work_threads(multiprocessing.cpu_count())\n",
    "\n",
    "con.set_train_times(20)  # To set the data traversing rounds\n",
    "con.set_nbatches(100)     # To split the training triples into several batches\n",
    "con.set_alpha(0.1)        # To set the learning rate\n",
    "con.set_dimension(100)    # To set the dimensions of the entities and relations at the same time\n",
    "# con.set_margin(1)         # To set the margin for the loss function\n",
    "\n",
    "con.set_bern(0)            # To set negative sampling algorithms, unif (bern = 0) or bern (bern = 1)\n",
    "con.set_ent_neg_rate(1)   # For each positive triple, we construct rate negative triplentity\n",
    "con.set_rel_neg_rate(0)\n",
    "\n",
    "con.set_opt_method(\"Adagrad\") \n",
    "\n",
    "con.set_export_files(\"./OpenKE/res/model.vec.tf\", 0)  # To set the export file of model paramters, every few rounds\n",
    "con.set_out_files(\"./OpenKE/res/embedding.vec.json\") \n",
    "\n",
    "con.init()\n",
    "\n",
    "#Set the knowledge embedding model\n",
    "con.set_model(models.DistMult)\n",
    "\n",
    "con.run()\n",
    "\n",
    "\n",
    "#con.test()\n"
   ]
  },
  {
   "cell_type": "code",
   "execution_count": 49,
   "metadata": {
    "ExecuteTime": {
     "end_time": "2020-05-11T18:21:57.684708Z",
     "start_time": "2020-05-11T18:21:57.669984Z"
    }
   },
   "outputs": [],
   "source": [
    "embeddings = con.get_parameters('numpy')\n",
    "ents = embeddings['ent_embeddings'] # Table of all entity vectors\n",
    "#rels = embeddings['rel_embeddings']# Table of all relation vectors. Needed in avg_dist_mult."
   ]
  },
  {
   "cell_type": "code",
   "execution_count": 50,
   "metadata": {
    "ExecuteTime": {
     "end_time": "2020-05-11T18:21:59.108047Z",
     "start_time": "2020-05-11T18:21:59.104779Z"
    }
   },
   "outputs": [],
   "source": [
    "ent_total = len(ents)"
   ]
  },
  {
   "cell_type": "code",
   "execution_count": 51,
   "metadata": {
    "ExecuteTime": {
     "end_time": "2020-05-11T18:22:00.008295Z",
     "start_time": "2020-05-11T18:22:00.001386Z"
    }
   },
   "outputs": [
    {
     "data": {
      "text/plain": [
       "100"
      ]
     },
     "execution_count": 51,
     "metadata": {},
     "output_type": "execute_result"
    }
   ],
   "source": [
    "len(ents[0])"
   ]
  },
  {
   "cell_type": "markdown",
   "metadata": {},
   "source": [
    "The next two sections(\"Cosine\" and \"DistMult Avg\"), use the embeddings in `ents` and `rels`. In fact \"Cosine\" only uses `ents`."
   ]
  },
  {
   "cell_type": "markdown",
   "metadata": {},
   "source": [
    "-----"
   ]
  },
  {
   "cell_type": "markdown",
   "metadata": {},
   "source": [
    "### Cosine  <a id=\"cos\"></a>"
   ]
  },
  {
   "cell_type": "markdown",
   "metadata": {},
   "source": [
    "Vinay has written a few functions that I copy here. We only use the first three."
   ]
  },
  {
   "cell_type": "code",
   "execution_count": 60,
   "metadata": {
    "ExecuteTime": {
     "end_time": "2020-05-11T18:24:14.437485Z",
     "start_time": "2020-05-11T18:24:14.425900Z"
    },
    "code_folding": [
     0,
     4,
     8,
     14
    ]
   },
   "outputs": [],
   "source": [
    "def dot(x,y):\n",
    "    return np.sum(x * y) \n",
    "\n",
    "# Vector Magnitude\n",
    "def mag(x):\n",
    "    return np.sqrt(np.sum(x * x))\n",
    "\n",
    "# Cosine Similarity\n",
    "def cosine_similar_to(h,t,ent_embeddings = ents):\n",
    "    ent_h = ent_embeddings[h]\n",
    "    ent_t = ent_embeddings[t]\n",
    "    cos_sim = np.absolute(dot(ent_h,ent_t)) / (mag(ent_h) * mag(ent_t))\n",
    "    return(cos_sim)\n",
    "\n",
    "def gen_cos_sim_links(iterations = 100000, threshold = 0.8, embeddings = ents): \n",
    "    \n",
    "    h_list = []; t_list = []; acc_list = []\n",
    "    for _ in range(iterations):\n",
    "        h = random.randint(1, 14540)  # this is wrong. It's excluding 0, the first entity.\n",
    "        t = random.randint(1, 14540)  # and also it does'nt see that (i,j) = (j,i).\n",
    "        acc = cosine_similar_to(h,t,embeddings)\n",
    "        if acc > threshold:\n",
    "            h_list.append(h)\n",
    "            t_list.append(t)       \n",
    "    \n",
    "    d = {'head': h_list, 'tail': t_list}\n",
    "    return pd.DataFrame(data = d)\n",
    "\n"
   ]
  },
  {
   "cell_type": "code",
   "execution_count": 61,
   "metadata": {
    "ExecuteTime": {
     "end_time": "2020-05-11T18:24:15.397912Z",
     "start_time": "2020-05-11T18:24:15.390905Z"
    },
    "code_folding": []
   },
   "outputs": [],
   "source": [
    "def rand_comb(n): \n",
    "    \"\"\" Return a generator(iterator) object that simulates random n choose 2.\n",
    "    \n",
    "    In other words, randomly select an entry from upper or lower half\n",
    "    of a symmetric matrix and return it.\n",
    "    You can also check the histogram to see the choice are not biased \n",
    "    toward upper/lower half.\n",
    "    \"\"\"\n",
    "    mem_set = set()\n",
    "    c = 0\n",
    "    while c < n*(n-1)/2:\n",
    "        while True:\n",
    "            i = random.randint(0,n-1)\n",
    "            j = random.randint(0,n-1)\n",
    "            while j==i:\n",
    "                j = random.randint(0,n-1)\n",
    "            if set([i,j]) not in mem_set:\n",
    "                break     \n",
    "        mem_set.add(frozenset([i,j]))\n",
    "        c+=1\n",
    "        yield (i,j)"
   ]
  },
  {
   "cell_type": "markdown",
   "metadata": {},
   "source": [
    "Basically I'm providing two routines to find cos_similar tuples. One is the function `gen_all_cos()` in the next cell. And the other method is in the section after.\n",
    "\n",
    "Since generating all the similar tuples is a costly process, we use generators to allow partial generation. The default generator starts from the first entry and checks for similar entries in an orderly manner, which is ok if we want to let it generate all. But if you want to generate the data frame partialy then you might want to randomize the process.\n",
    "\n",
    "`gen_all_cos()` has all the options and you can stop it whenever you want and get partial results. But the 2nd method also works and is good for testing."
   ]
  },
  {
   "cell_type": "markdown",
   "metadata": {},
   "source": [
    "#### gen_all_cos()"
   ]
  },
  {
   "cell_type": "code",
   "execution_count": 62,
   "metadata": {
    "ExecuteTime": {
     "end_time": "2020-05-11T18:24:17.927731Z",
     "start_time": "2020-05-11T18:24:17.908334Z"
    }
   },
   "outputs": [],
   "source": [
    "def gen_all_cos(rand=False):\n",
    "    \"\"\"Return a data frame containing head, tail, and score for similar tuples.\n",
    "    \n",
    "    Rand -- (default=False): chose tuples randomly.\n",
    "    Also prints the percentage of checked tuples. If interupted (KeyboardInterrupt)\n",
    "    it still returns the (incomplete) data frame.\n",
    "    \"\"\"\n",
    "    # Pros:\n",
    "    # 1) you can stop it anytime and get partial results\n",
    "    # 2) It attempts to exhaust all combinations in a random way. So the histogram of \n",
    "    # heads/tails is pretty uniform whenever you stop.\n",
    "    # Cons:\n",
    "    # 1) A little bit slower than the next method.\n",
    "    # 2) probbaly even slower when randomizing and near the end of the process.\n",
    "    tot = ent_total*(ent_total-1)/2\n",
    "    c=0\n",
    "    threshold = .8\n",
    "    try:\n",
    "        head = []\n",
    "        tail = []\n",
    "        sc = []\n",
    "        if rand:\n",
    "            for i,j in rand_comb(ent_total):\n",
    "                if not(c%100000):\n",
    "                    print(100*c/tot) # print progress % every 100k iteration\n",
    "                c+=1\n",
    "                score = cosine_similar_to(i,j)\n",
    "                if score > threshold:\n",
    "                    head.append(i)\n",
    "                    tail.append(j)\n",
    "                    sc.append(score)\n",
    "        else:\n",
    "            for i,j in combinations(range(ent_total),2):\n",
    "                if not(c%100000):\n",
    "                    print(100*c/tot) # print progress % every 100k iteration\n",
    "                c+=1\n",
    "                score = cosine_similar_to(i,j)\n",
    "                if score > threshold:\n",
    "                    head.append(i)\n",
    "                    tail.append(j)\n",
    "                    sc.append(score)\n",
    "    except KeyboardInterrupt:\n",
    "        print('KeyboardInterrupt at ' + f'{100*c/tot:.3f} %')\n",
    "        \n",
    "        if len(head) > len(tail):\n",
    "            print(\"head popped!\")\n",
    "            head.pop()\n",
    "        elif len(head) < len(tail):\n",
    "            print(\"tail popped!\")\n",
    "            tail.pop()\n",
    "        \n",
    "        if len(sc) < len(head):\n",
    "            print(\"pop pop!\")\n",
    "            head.pop()\n",
    "            tail.pop()\n",
    "        \n",
    "        if not(len(sc) == len(head) == len(tail)):\n",
    "            print(\"\"\"len s,h,t still don't match :( Ain't \n",
    "                  possible but if happened, then last row contains NaNs \"\"\")\n",
    "            h = pd.DataFrame({'head':head})\n",
    "            t = pd.DataFrame({'tail':head})\n",
    "            s = pd.DataFrame({'sc':head})\n",
    "            new = pd.concat([h, t,s], axis=1)\n",
    "            return new\n",
    "        \n",
    "        print(\"head: \" + str(len(head)) + \" tail: \" + str(len(tail)) + \" sc: \" + str(len(sc)) )\n",
    "    \n",
    "    d = {'head':head , 'tail':tail, 'score': sc}\n",
    "    df = pd.DataFrame(data=d)\n",
    "    return df "
   ]
  },
  {
   "cell_type": "code",
   "execution_count": 65,
   "metadata": {
    "ExecuteTime": {
     "end_time": "2020-05-11T18:25:52.252689Z",
     "start_time": "2020-05-11T18:25:39.788868Z"
    }
   },
   "outputs": [
    {
     "name": "stdout",
     "output_type": "stream",
     "text": [
      "0.0\n",
      "0.08947847248615265\n",
      "0.1789569449723053\n",
      "0.26843541745845795\n",
      "0.3579138899446106\n",
      "KeyboardInterrupt at 0.420 %\n",
      "head: 44 tail: 44 sc: 44\n"
     ]
    }
   ],
   "source": [
    "df_cos_sim = gen_all_cos()"
   ]
  },
  {
   "cell_type": "code",
   "execution_count": 66,
   "metadata": {
    "ExecuteTime": {
     "end_time": "2020-05-11T18:25:57.547665Z",
     "start_time": "2020-05-11T18:25:57.524456Z"
    }
   },
   "outputs": [
    {
     "data": {
      "text/html": [
       "<div>\n",
       "<style scoped>\n",
       "    .dataframe tbody tr th:only-of-type {\n",
       "        vertical-align: middle;\n",
       "    }\n",
       "\n",
       "    .dataframe tbody tr th {\n",
       "        vertical-align: top;\n",
       "    }\n",
       "\n",
       "    .dataframe thead th {\n",
       "        text-align: right;\n",
       "    }\n",
       "</style>\n",
       "<table border=\"1\" class=\"dataframe\">\n",
       "  <thead>\n",
       "    <tr style=\"text-align: right;\">\n",
       "      <th></th>\n",
       "      <th>head</th>\n",
       "      <th>tail</th>\n",
       "    </tr>\n",
       "  </thead>\n",
       "  <tbody>\n",
       "    <tr>\n",
       "      <th>0</th>\n",
       "      <td>9</td>\n",
       "      <td>10</td>\n",
       "    </tr>\n",
       "    <tr>\n",
       "      <th>1</th>\n",
       "      <td>9</td>\n",
       "      <td>17</td>\n",
       "    </tr>\n",
       "    <tr>\n",
       "      <th>2</th>\n",
       "      <td>9</td>\n",
       "      <td>174</td>\n",
       "    </tr>\n",
       "    <tr>\n",
       "      <th>3</th>\n",
       "      <td>10</td>\n",
       "      <td>17</td>\n",
       "    </tr>\n",
       "    <tr>\n",
       "      <th>4</th>\n",
       "      <td>10</td>\n",
       "      <td>174</td>\n",
       "    </tr>\n",
       "    <tr>\n",
       "      <th>7</th>\n",
       "      <td>17</td>\n",
       "      <td>174</td>\n",
       "    </tr>\n",
       "  </tbody>\n",
       "</table>\n",
       "</div>"
      ],
      "text/plain": [
       "   head  tail\n",
       "0     9    10\n",
       "1     9    17\n",
       "2     9   174\n",
       "3    10    17\n",
       "4    10   174\n",
       "7    17   174"
      ]
     },
     "execution_count": 66,
     "metadata": {},
     "output_type": "execute_result"
    }
   ],
   "source": [
    "filt_cos_df = df_cos_sim.loc[df_cos_sim['score'] > .85].copy() # more filtering if necc.\n",
    "filt_cos_df.drop(columns='score',inplace=True)\n",
    "filt_cos_df # feed it to append module"
   ]
  },
  {
   "cell_type": "markdown",
   "metadata": {},
   "source": [
    "#### 2nd method"
   ]
  },
  {
   "cell_type": "markdown",
   "metadata": {},
   "source": [
    "With the help of the generators defined in the next cell, you can manually generate finitely many similar tuples."
   ]
  },
  {
   "cell_type": "code",
   "execution_count": 161,
   "metadata": {
    "ExecuteTime": {
     "end_time": "2020-05-10T22:18:11.809066Z",
     "start_time": "2020-05-10T22:18:11.797238Z"
    },
    "code_folding": []
   },
   "outputs": [],
   "source": [
    "# The next two function are for manual iteration through similar tuples.\n",
    "def gen_iter(threshold = .8): \n",
    "    \"\"\" Return an iterator that generates similar tuples.\n",
    "    \n",
    "    next two cells show the usage.\n",
    "    \"\"\"\n",
    "    for i,j in combinations(range(ent_total),2):\n",
    "        score = cosine_similar_to(i,j)\n",
    "        if score > threshold:\n",
    "            yield (i,j,score)\n",
    "            \n",
    "def gen_iter_rand(threshold=.8):\n",
    "    \"\"\" Return an iterator that generates similar tuples in a random order.\n",
    "    \n",
    "    next two cells show the usage.\n",
    "    \"\"\"\n",
    "    for p,q in rand_comb(ent_total):\n",
    "            score = cosine_similar_to(p,q)\n",
    "            if score > threshold:\n",
    "                yield (p,q,score)"
   ]
  },
  {
   "cell_type": "markdown",
   "metadata": {},
   "source": [
    "The next two cell allow you to do what you want by just setting the flags at the begining."
   ]
  },
  {
   "cell_type": "code",
   "execution_count": 162,
   "metadata": {
    "ExecuteTime": {
     "end_time": "2020-05-10T22:18:20.076867Z",
     "start_time": "2020-05-10T22:18:19.935713Z"
    }
   },
   "outputs": [],
   "source": [
    "#######################\n",
    "# Keep this cell separate.\n",
    "# Run this only once to get the generator object, \n",
    "# then run the next cell as many times as you want.\n",
    "#\n",
    "# To reset the process, come back here and start over.\n",
    "#\n",
    "\n",
    "RAND = False\n",
    "\n",
    "df_cos_sim = pd.DataFrame(columns=['head', 'tail', 'cos_score'])\n",
    "if RAND:\n",
    "    sims = gen_iter_rand()\n",
    "else:    \n",
    "    sims = gen_iter()\n",
    "#######################"
   ]
  },
  {
   "cell_type": "code",
   "execution_count": 163,
   "metadata": {
    "ExecuteTime": {
     "end_time": "2020-05-10T22:18:54.986504Z",
     "start_time": "2020-05-10T22:18:48.393304Z"
    }
   },
   "outputs": [
    {
     "data": {
      "text/html": [
       "<div>\n",
       "<style scoped>\n",
       "    .dataframe tbody tr th:only-of-type {\n",
       "        vertical-align: middle;\n",
       "    }\n",
       "\n",
       "    .dataframe tbody tr th {\n",
       "        vertical-align: top;\n",
       "    }\n",
       "\n",
       "    .dataframe thead th {\n",
       "        text-align: right;\n",
       "    }\n",
       "</style>\n",
       "<table border=\"1\" class=\"dataframe\">\n",
       "  <thead>\n",
       "    <tr style=\"text-align: right;\">\n",
       "      <th></th>\n",
       "      <th>head</th>\n",
       "      <th>tail</th>\n",
       "      <th>cos_score</th>\n",
       "    </tr>\n",
       "  </thead>\n",
       "  <tbody>\n",
       "    <tr>\n",
       "      <th>0</th>\n",
       "      <td>1.0</td>\n",
       "      <td>6321.0</td>\n",
       "      <td>0.832283</td>\n",
       "    </tr>\n",
       "    <tr>\n",
       "      <th>1</th>\n",
       "      <td>1.0</td>\n",
       "      <td>8571.0</td>\n",
       "      <td>0.811631</td>\n",
       "    </tr>\n",
       "    <tr>\n",
       "      <th>2</th>\n",
       "      <td>9.0</td>\n",
       "      <td>10.0</td>\n",
       "      <td>0.895150</td>\n",
       "    </tr>\n",
       "    <tr>\n",
       "      <th>3</th>\n",
       "      <td>9.0</td>\n",
       "      <td>17.0</td>\n",
       "      <td>0.897638</td>\n",
       "    </tr>\n",
       "    <tr>\n",
       "      <th>4</th>\n",
       "      <td>9.0</td>\n",
       "      <td>174.0</td>\n",
       "      <td>0.899374</td>\n",
       "    </tr>\n",
       "    <tr>\n",
       "      <th>5</th>\n",
       "      <td>10.0</td>\n",
       "      <td>17.0</td>\n",
       "      <td>0.894460</td>\n",
       "    </tr>\n",
       "    <tr>\n",
       "      <th>6</th>\n",
       "      <td>10.0</td>\n",
       "      <td>174.0</td>\n",
       "      <td>0.905054</td>\n",
       "    </tr>\n",
       "    <tr>\n",
       "      <th>7</th>\n",
       "      <td>12.0</td>\n",
       "      <td>11043.0</td>\n",
       "      <td>0.819847</td>\n",
       "    </tr>\n",
       "    <tr>\n",
       "      <th>8</th>\n",
       "      <td>17.0</td>\n",
       "      <td>174.0</td>\n",
       "      <td>0.866708</td>\n",
       "    </tr>\n",
       "  </tbody>\n",
       "</table>\n",
       "</div>"
      ],
      "text/plain": [
       "   head     tail  cos_score\n",
       "0   1.0   6321.0   0.832283\n",
       "1   1.0   8571.0   0.811631\n",
       "2   9.0     10.0   0.895150\n",
       "3   9.0     17.0   0.897638\n",
       "4   9.0    174.0   0.899374\n",
       "5  10.0     17.0   0.894460\n",
       "6  10.0    174.0   0.905054\n",
       "7  12.0  11043.0   0.819847\n",
       "8  17.0    174.0   0.866708"
      ]
     },
     "execution_count": 163,
     "metadata": {},
     "output_type": "execute_result"
    }
   ],
   "source": [
    "# This cell appends finitely many (`iterations`) new rows to the data frame\n",
    "# each time you run it.\n",
    "# If you spend long enough time running it then at some point you will get \n",
    "# StopIteration exception which means you have exhausted all the combinations. Good job!\n",
    "# \n",
    "# Set iterations as desired but remember 14951 choose 2 = 111,758,725 is the upper bound\n",
    "# for number of rows of df_cos_sim.\n",
    "#\n",
    "\n",
    "iterations = 9\n",
    "for _ in range(iterations):\n",
    "    (h,t,sc) = next(sims)\n",
    "    df_cos_sim = df_cos_sim.append({'head': h, 'tail': t,'cos_score': sc}, ignore_index=True)\n",
    "    \n",
    "df_cos_sim    \n",
    "    "
   ]
  },
  {
   "cell_type": "code",
   "execution_count": 91,
   "metadata": {},
   "outputs": [
    {
     "data": {
      "text/plain": [
       "array([[<matplotlib.axes._subplots.AxesSubplot object at 0x1aa1ba2c50>,\n",
       "        <matplotlib.axes._subplots.AxesSubplot object at 0x1aa1a5c9e8>],\n",
       "       [<matplotlib.axes._subplots.AxesSubplot object at 0x1a46fb3f28>,\n",
       "        <matplotlib.axes._subplots.AxesSubplot object at 0x1a36358518>]],\n",
       "      dtype=object)"
      ]
     },
     "execution_count": 91,
     "metadata": {},
     "output_type": "execute_result"
    },
    {
     "data": {
      "image/png": "[encoded data removed]",
      "text/plain": [
       "<Figure size 432x288 with 4 Axes>"
      ]
     },
     "metadata": {
      "needs_background": "light"
     },
     "output_type": "display_data"
    }
   ],
   "source": [
    "df_cos_sim.hist()"
   ]
  },
  {
   "cell_type": "code",
   "execution_count": 102,
   "metadata": {},
   "outputs": [
    {
     "data": {
      "text/html": [
       "<div>\n",
       "<style scoped>\n",
       "    .dataframe tbody tr th:only-of-type {\n",
       "        vertical-align: middle;\n",
       "    }\n",
       "\n",
       "    .dataframe tbody tr th {\n",
       "        vertical-align: top;\n",
       "    }\n",
       "\n",
       "    .dataframe thead th {\n",
       "        text-align: right;\n",
       "    }\n",
       "</style>\n",
       "<table border=\"1\" class=\"dataframe\">\n",
       "  <thead>\n",
       "    <tr style=\"text-align: right;\">\n",
       "      <th></th>\n",
       "      <th>head</th>\n",
       "      <th>tail</th>\n",
       "    </tr>\n",
       "  </thead>\n",
       "  <tbody>\n",
       "    <tr>\n",
       "      <th>0</th>\n",
       "      <td>9.0</td>\n",
       "      <td>10.0</td>\n",
       "    </tr>\n",
       "    <tr>\n",
       "      <th>1</th>\n",
       "      <td>9.0</td>\n",
       "      <td>17.0</td>\n",
       "    </tr>\n",
       "    <tr>\n",
       "      <th>2</th>\n",
       "      <td>9.0</td>\n",
       "      <td>174.0</td>\n",
       "    </tr>\n",
       "    <tr>\n",
       "      <th>3</th>\n",
       "      <td>10.0</td>\n",
       "      <td>17.0</td>\n",
       "    </tr>\n",
       "    <tr>\n",
       "      <th>4</th>\n",
       "      <td>10.0</td>\n",
       "      <td>174.0</td>\n",
       "    </tr>\n",
       "    <tr>\n",
       "      <th>6</th>\n",
       "      <td>17.0</td>\n",
       "      <td>174.0</td>\n",
       "    </tr>\n",
       "    <tr>\n",
       "      <th>12</th>\n",
       "      <td>28.0</td>\n",
       "      <td>3807.0</td>\n",
       "    </tr>\n",
       "    <tr>\n",
       "      <th>14</th>\n",
       "      <td>28.0</td>\n",
       "      <td>4192.0</td>\n",
       "    </tr>\n",
       "    <tr>\n",
       "      <th>19</th>\n",
       "      <td>28.0</td>\n",
       "      <td>9739.0</td>\n",
       "    </tr>\n",
       "  </tbody>\n",
       "</table>\n",
       "</div>"
      ],
      "text/plain": [
       "    head    tail\n",
       "0    9.0    10.0\n",
       "1    9.0    17.0\n",
       "2    9.0   174.0\n",
       "3   10.0    17.0\n",
       "4   10.0   174.0\n",
       "6   17.0   174.0\n",
       "12  28.0  3807.0\n",
       "14  28.0  4192.0\n",
       "19  28.0  9739.0"
      ]
     },
     "execution_count": 102,
     "metadata": {},
     "output_type": "execute_result"
    }
   ],
   "source": [
    "# if you wanna do more filtering then go ahead and then drop score column and\n",
    "# pass it to append module.\n",
    "df_cos_sim = df_cos_sim.loc[df_cos_sim['cos_score'] > .85].copy()\n",
    "df_cos_sim.drop(columns='cos_score',inplace=True)\n",
    "df_cos_sim"
   ]
  },
  {
   "cell_type": "code",
   "execution_count": null,
   "metadata": {},
   "outputs": [],
   "source": [
    "# pass to append module"
   ]
  },
  {
   "cell_type": "markdown",
   "metadata": {},
   "source": [
    "### DistMult Avg  <a id=\"avg\"></a>"
   ]
  },
  {
   "cell_type": "markdown",
   "metadata": {},
   "source": [
    "In this method, for each pair $(e_i,e_j)$ of entities we calculate the DistMult loss $l_k$ of \n",
    "$(e_i, r_k ,e_j)$ for all $k$. Since the $l_k$ is actully loss value, we take those that are negative and average them to get the score value $Sc(e_i,e_j)$. Then this score value is used to decide wheather $e_i$ and $e_j$ are similar or not."
   ]
  },
  {
   "cell_type": "code",
   "execution_count": 167,
   "metadata": {
    "ExecuteTime": {
     "end_time": "2020-05-11T00:01:59.109592Z",
     "start_time": "2020-05-11T00:01:59.105528Z"
    }
   },
   "outputs": [],
   "source": [
    "rels = embeddings['rel_embeddings'] # Get the relation embeddings from OpenKE\n",
    "rel_total = len(rels)"
   ]
  },
  {
   "cell_type": "markdown",
   "metadata": {},
   "source": [
    "Similar to the previous section, this process could also be written in various ways. Here I have provided the main function `gen_all_avg_DistMult_sim()` which similar to `gen_all_cos()` generates all the similarities and can be interrupted without loss. \n",
    "\n",
    "Of course, you can also copy the 2nd method above here if interested."
   ]
  },
  {
   "cell_type": "markdown",
   "metadata": {},
   "source": [
    "#### gen_all_avg_DistMult_sim()"
   ]
  },
  {
   "cell_type": "code",
   "execution_count": 193,
   "metadata": {
    "ExecuteTime": {
     "end_time": "2020-05-11T01:28:47.574806Z",
     "start_time": "2020-05-11T01:28:47.562727Z"
    }
   },
   "outputs": [],
   "source": [
    "def DistMult_avg_sim(h,t):\n",
    "    \"\"\" Return the avg DistMult similarity score of a tuple.\n",
    "    \n",
    "    It's a negative number. Since it actually is capturing loss.\n",
    "    \"\"\"\n",
    "    test_h = np.array([h] * rel_total)\n",
    "    test_r = np.array(range(rel_total))\n",
    "    test_t = np.array([t] * rel_total)\n",
    "    res = con.test_step(test_h, test_t, test_r).reshape(-1) # list of all loss values\n",
    "    N = res[res < 0].size\n",
    "    if N==0:\n",
    "        return 1\n",
    "    score = np.sum(res[res < 0])/N\n",
    "    return score"
   ]
  },
  {
   "cell_type": "code",
   "execution_count": 266,
   "metadata": {
    "ExecuteTime": {
     "end_time": "2020-05-11T03:30:51.298401Z",
     "start_time": "2020-05-11T03:30:51.279998Z"
    },
    "code_folding": []
   },
   "outputs": [],
   "source": [
    "def gen_all_DistMult_sim(rand=False):\n",
    "    \"\"\"Return a data frame containing head, tail, and score for similar tuples.\n",
    "    \n",
    "    Rand -- (default=False): chose tuples randomly.\n",
    "    Also prints the percentage of checked tuples. If interupted (KeyboardInterrupt)\n",
    "    it still returns the (incomplete) data frame.\n",
    "    \"\"\"\n",
    "    # Pros:\n",
    "    # 1) You can stop it anytime and get partial results\n",
    "    # 2) rand=True => it exhaust all combinations in a random way. So the histogram of \n",
    "    # heads/tails is pretty uniform whenever you stop.\n",
    "    # Cons:\n",
    "    # 1) A little bit slow because of percentage, ... . Comment them out if you like.\n",
    "    # 2) Slow when rand=True and near the end of the process.\n",
    "    tot = ent_total*(ent_total-1)/2\n",
    "    c=0\n",
    "    threshold = -3\n",
    "    try:\n",
    "        head = []\n",
    "        tail = []\n",
    "        sc = []\n",
    "        if rand:\n",
    "            for i,j in rand_comb(ent_total):\n",
    "                if not(c%1000000):\n",
    "                    print(100*c/tot) # print progress % every 100k iteration\n",
    "                c+=1\n",
    "                score = DistMult_avg_sim(i,j)\n",
    "                if score < threshold: # Score value here is loss, so less is better.\n",
    "                                      # To decide on this threshold, remove the cond and look\n",
    "                                      # at the output histogram. I'm putting -3 for now.\n",
    "                    head.append(i)\n",
    "                    tail.append(j)\n",
    "                    sc.append(score)\n",
    "        else:\n",
    "            for i,j in combinations(range(ent_total),2):\n",
    "                if not(c%1000000):\n",
    "                    print(100*c/tot) # print progress % every 100k iteration\n",
    "                c+=1\n",
    "                score = DistMult_avg_sim(i,j)\n",
    "                if score < threshold: # Score value here is loss, so less is better.\n",
    "                                      # To decide on this threshold, remove the cond and look\n",
    "                                      # at the output histogram. I'm putting -3 for now.\n",
    "                    head.append(i)\n",
    "                    tail.append(j)\n",
    "                    sc.append(score)\n",
    "    except KeyboardInterrupt:\n",
    "        print('KeyboardInterrupt at ' + f'{100*c/tot:.3f} %')\n",
    "        if len(head) > len(tail):\n",
    "            print(\"head popped!\")\n",
    "            head.pop()\n",
    "        elif len(head) < len(tail):\n",
    "            print(\"tail popped!\")\n",
    "            tail.pop()\n",
    "        if len(sc) < len(head):\n",
    "            print(\"pop pop!\")\n",
    "            head.pop()\n",
    "            tail.pop()\n",
    "        if not(len(sc) == len(head) == len(tail)):\n",
    "            print(\"\"\"len s,h,t still don't match :( Ain't \n",
    "                  possible but if happened, then last row contains NaNs \"\"\")\n",
    "            h = pd.DataFrame({'head':head})\n",
    "            t = pd.DataFrame({'tail':head})\n",
    "            s = pd.DataFrame({'sc':head})\n",
    "            new = pd.concat([h, t,s], axis=1)\n",
    "            return new\n",
    "        print(\"head: \" + str(len(head)) + \" tail: \" + str(len(tail)) + \" sc: \" + str(len(sc)) )\n",
    "    d = {'head':head , 'tail':tail, 'score': sc}\n",
    "    df = pd.DataFrame(data=d)\n",
    "    return df "
   ]
  },
  {
   "cell_type": "code",
   "execution_count": 267,
   "metadata": {
    "ExecuteTime": {
     "end_time": "2020-05-11T03:31:02.152664Z",
     "start_time": "2020-05-11T03:30:54.967041Z"
    }
   },
   "outputs": [
    {
     "name": "stdout",
     "output_type": "stream",
     "text": [
      "0.0\n",
      "KeyboardInterrupt at 0.005 %\n",
      "head: 48 tail: 48 sc: 48\n"
     ]
    }
   ],
   "source": [
    "dist_df = gen_all_DistMult_sim()"
   ]
  },
  {
   "cell_type": "code",
   "execution_count": 268,
   "metadata": {
    "ExecuteTime": {
     "end_time": "2020-05-11T03:31:04.675009Z",
     "start_time": "2020-05-11T03:31:04.657517Z"
    }
   },
   "outputs": [
    {
     "data": {
      "text/html": [
       "<div>\n",
       "<style scoped>\n",
       "    .dataframe tbody tr th:only-of-type {\n",
       "        vertical-align: middle;\n",
       "    }\n",
       "\n",
       "    .dataframe tbody tr th {\n",
       "        vertical-align: top;\n",
       "    }\n",
       "\n",
       "    .dataframe thead th {\n",
       "        text-align: right;\n",
       "    }\n",
       "</style>\n",
       "<table border=\"1\" class=\"dataframe\">\n",
       "  <thead>\n",
       "    <tr style=\"text-align: right;\">\n",
       "      <th></th>\n",
       "      <th>head</th>\n",
       "      <th>tail</th>\n",
       "      <th>score</th>\n",
       "    </tr>\n",
       "  </thead>\n",
       "  <tbody>\n",
       "    <tr>\n",
       "      <th>0</th>\n",
       "      <td>0</td>\n",
       "      <td>96</td>\n",
       "      <td>-3.006979</td>\n",
       "    </tr>\n",
       "    <tr>\n",
       "      <th>1</th>\n",
       "      <td>0</td>\n",
       "      <td>104</td>\n",
       "      <td>-3.154193</td>\n",
       "    </tr>\n",
       "    <tr>\n",
       "      <th>2</th>\n",
       "      <td>0</td>\n",
       "      <td>144</td>\n",
       "      <td>-3.177240</td>\n",
       "    </tr>\n",
       "    <tr>\n",
       "      <th>3</th>\n",
       "      <td>0</td>\n",
       "      <td>223</td>\n",
       "      <td>-3.513156</td>\n",
       "    </tr>\n",
       "    <tr>\n",
       "      <th>4</th>\n",
       "      <td>0</td>\n",
       "      <td>245</td>\n",
       "      <td>-3.221455</td>\n",
       "    </tr>\n",
       "    <tr>\n",
       "      <th>5</th>\n",
       "      <td>0</td>\n",
       "      <td>395</td>\n",
       "      <td>-3.065530</td>\n",
       "    </tr>\n",
       "    <tr>\n",
       "      <th>6</th>\n",
       "      <td>0</td>\n",
       "      <td>396</td>\n",
       "      <td>-3.372768</td>\n",
       "    </tr>\n",
       "    <tr>\n",
       "      <th>7</th>\n",
       "      <td>0</td>\n",
       "      <td>422</td>\n",
       "      <td>-3.022748</td>\n",
       "    </tr>\n",
       "    <tr>\n",
       "      <th>8</th>\n",
       "      <td>0</td>\n",
       "      <td>569</td>\n",
       "      <td>-3.546024</td>\n",
       "    </tr>\n",
       "    <tr>\n",
       "      <th>9</th>\n",
       "      <td>0</td>\n",
       "      <td>645</td>\n",
       "      <td>-3.500739</td>\n",
       "    </tr>\n",
       "    <tr>\n",
       "      <th>10</th>\n",
       "      <td>0</td>\n",
       "      <td>647</td>\n",
       "      <td>-3.404810</td>\n",
       "    </tr>\n",
       "    <tr>\n",
       "      <th>11</th>\n",
       "      <td>0</td>\n",
       "      <td>750</td>\n",
       "      <td>-3.019538</td>\n",
       "    </tr>\n",
       "    <tr>\n",
       "      <th>12</th>\n",
       "      <td>0</td>\n",
       "      <td>790</td>\n",
       "      <td>-3.161447</td>\n",
       "    </tr>\n",
       "    <tr>\n",
       "      <th>13</th>\n",
       "      <td>0</td>\n",
       "      <td>983</td>\n",
       "      <td>-3.025140</td>\n",
       "    </tr>\n",
       "    <tr>\n",
       "      <th>14</th>\n",
       "      <td>0</td>\n",
       "      <td>988</td>\n",
       "      <td>-3.256167</td>\n",
       "    </tr>\n",
       "    <tr>\n",
       "      <th>15</th>\n",
       "      <td>0</td>\n",
       "      <td>1025</td>\n",
       "      <td>-3.211070</td>\n",
       "    </tr>\n",
       "    <tr>\n",
       "      <th>16</th>\n",
       "      <td>0</td>\n",
       "      <td>1274</td>\n",
       "      <td>-3.296749</td>\n",
       "    </tr>\n",
       "    <tr>\n",
       "      <th>17</th>\n",
       "      <td>0</td>\n",
       "      <td>1307</td>\n",
       "      <td>-3.291674</td>\n",
       "    </tr>\n",
       "    <tr>\n",
       "      <th>18</th>\n",
       "      <td>0</td>\n",
       "      <td>1374</td>\n",
       "      <td>-3.358590</td>\n",
       "    </tr>\n",
       "    <tr>\n",
       "      <th>19</th>\n",
       "      <td>0</td>\n",
       "      <td>1443</td>\n",
       "      <td>-4.483005</td>\n",
       "    </tr>\n",
       "    <tr>\n",
       "      <th>20</th>\n",
       "      <td>0</td>\n",
       "      <td>1556</td>\n",
       "      <td>-3.660746</td>\n",
       "    </tr>\n",
       "    <tr>\n",
       "      <th>21</th>\n",
       "      <td>0</td>\n",
       "      <td>1562</td>\n",
       "      <td>-3.206500</td>\n",
       "    </tr>\n",
       "    <tr>\n",
       "      <th>22</th>\n",
       "      <td>0</td>\n",
       "      <td>1660</td>\n",
       "      <td>-4.899738</td>\n",
       "    </tr>\n",
       "    <tr>\n",
       "      <th>23</th>\n",
       "      <td>0</td>\n",
       "      <td>1846</td>\n",
       "      <td>-3.591724</td>\n",
       "    </tr>\n",
       "    <tr>\n",
       "      <th>24</th>\n",
       "      <td>0</td>\n",
       "      <td>2238</td>\n",
       "      <td>-3.402217</td>\n",
       "    </tr>\n",
       "    <tr>\n",
       "      <th>25</th>\n",
       "      <td>0</td>\n",
       "      <td>2725</td>\n",
       "      <td>-3.197223</td>\n",
       "    </tr>\n",
       "    <tr>\n",
       "      <th>26</th>\n",
       "      <td>0</td>\n",
       "      <td>2857</td>\n",
       "      <td>-3.132706</td>\n",
       "    </tr>\n",
       "    <tr>\n",
       "      <th>27</th>\n",
       "      <td>0</td>\n",
       "      <td>2913</td>\n",
       "      <td>-3.034077</td>\n",
       "    </tr>\n",
       "    <tr>\n",
       "      <th>28</th>\n",
       "      <td>0</td>\n",
       "      <td>3524</td>\n",
       "      <td>-3.183664</td>\n",
       "    </tr>\n",
       "    <tr>\n",
       "      <th>29</th>\n",
       "      <td>0</td>\n",
       "      <td>3669</td>\n",
       "      <td>-3.220319</td>\n",
       "    </tr>\n",
       "    <tr>\n",
       "      <th>30</th>\n",
       "      <td>0</td>\n",
       "      <td>3929</td>\n",
       "      <td>-3.681731</td>\n",
       "    </tr>\n",
       "    <tr>\n",
       "      <th>31</th>\n",
       "      <td>0</td>\n",
       "      <td>4046</td>\n",
       "      <td>-3.207529</td>\n",
       "    </tr>\n",
       "    <tr>\n",
       "      <th>32</th>\n",
       "      <td>0</td>\n",
       "      <td>4151</td>\n",
       "      <td>-3.489996</td>\n",
       "    </tr>\n",
       "    <tr>\n",
       "      <th>33</th>\n",
       "      <td>0</td>\n",
       "      <td>4169</td>\n",
       "      <td>-3.640108</td>\n",
       "    </tr>\n",
       "    <tr>\n",
       "      <th>34</th>\n",
       "      <td>0</td>\n",
       "      <td>4198</td>\n",
       "      <td>-3.296397</td>\n",
       "    </tr>\n",
       "    <tr>\n",
       "      <th>35</th>\n",
       "      <td>0</td>\n",
       "      <td>4287</td>\n",
       "      <td>-3.001758</td>\n",
       "    </tr>\n",
       "    <tr>\n",
       "      <th>36</th>\n",
       "      <td>0</td>\n",
       "      <td>4333</td>\n",
       "      <td>-3.184958</td>\n",
       "    </tr>\n",
       "    <tr>\n",
       "      <th>37</th>\n",
       "      <td>0</td>\n",
       "      <td>4409</td>\n",
       "      <td>-3.026269</td>\n",
       "    </tr>\n",
       "    <tr>\n",
       "      <th>38</th>\n",
       "      <td>0</td>\n",
       "      <td>4794</td>\n",
       "      <td>-3.014483</td>\n",
       "    </tr>\n",
       "    <tr>\n",
       "      <th>39</th>\n",
       "      <td>0</td>\n",
       "      <td>5074</td>\n",
       "      <td>-3.169034</td>\n",
       "    </tr>\n",
       "    <tr>\n",
       "      <th>40</th>\n",
       "      <td>0</td>\n",
       "      <td>5112</td>\n",
       "      <td>-3.697088</td>\n",
       "    </tr>\n",
       "    <tr>\n",
       "      <th>41</th>\n",
       "      <td>0</td>\n",
       "      <td>5141</td>\n",
       "      <td>-3.332051</td>\n",
       "    </tr>\n",
       "    <tr>\n",
       "      <th>42</th>\n",
       "      <td>0</td>\n",
       "      <td>5203</td>\n",
       "      <td>-3.025175</td>\n",
       "    </tr>\n",
       "    <tr>\n",
       "      <th>43</th>\n",
       "      <td>0</td>\n",
       "      <td>5225</td>\n",
       "      <td>-3.048343</td>\n",
       "    </tr>\n",
       "    <tr>\n",
       "      <th>44</th>\n",
       "      <td>0</td>\n",
       "      <td>5283</td>\n",
       "      <td>-3.518112</td>\n",
       "    </tr>\n",
       "    <tr>\n",
       "      <th>45</th>\n",
       "      <td>0</td>\n",
       "      <td>5370</td>\n",
       "      <td>-3.082821</td>\n",
       "    </tr>\n",
       "    <tr>\n",
       "      <th>46</th>\n",
       "      <td>0</td>\n",
       "      <td>5395</td>\n",
       "      <td>-4.857812</td>\n",
       "    </tr>\n",
       "    <tr>\n",
       "      <th>47</th>\n",
       "      <td>0</td>\n",
       "      <td>5561</td>\n",
       "      <td>-3.069813</td>\n",
       "    </tr>\n",
       "  </tbody>\n",
       "</table>\n",
       "</div>"
      ],
      "text/plain": [
       "    head  tail     score\n",
       "0      0    96 -3.006979\n",
       "1      0   104 -3.154193\n",
       "2      0   144 -3.177240\n",
       "3      0   223 -3.513156\n",
       "4      0   245 -3.221455\n",
       "5      0   395 -3.065530\n",
       "6      0   396 -3.372768\n",
       "7      0   422 -3.022748\n",
       "8      0   569 -3.546024\n",
       "9      0   645 -3.500739\n",
       "10     0   647 -3.404810\n",
       "11     0   750 -3.019538\n",
       "12     0   790 -3.161447\n",
       "13     0   983 -3.025140\n",
       "14     0   988 -3.256167\n",
       "15     0  1025 -3.211070\n",
       "16     0  1274 -3.296749\n",
       "17     0  1307 -3.291674\n",
       "18     0  1374 -3.358590\n",
       "19     0  1443 -4.483005\n",
       "20     0  1556 -3.660746\n",
       "21     0  1562 -3.206500\n",
       "22     0  1660 -4.899738\n",
       "23     0  1846 -3.591724\n",
       "24     0  2238 -3.402217\n",
       "25     0  2725 -3.197223\n",
       "26     0  2857 -3.132706\n",
       "27     0  2913 -3.034077\n",
       "28     0  3524 -3.183664\n",
       "29     0  3669 -3.220319\n",
       "30     0  3929 -3.681731\n",
       "31     0  4046 -3.207529\n",
       "32     0  4151 -3.489996\n",
       "33     0  4169 -3.640108\n",
       "34     0  4198 -3.296397\n",
       "35     0  4287 -3.001758\n",
       "36     0  4333 -3.184958\n",
       "37     0  4409 -3.026269\n",
       "38     0  4794 -3.014483\n",
       "39     0  5074 -3.169034\n",
       "40     0  5112 -3.697088\n",
       "41     0  5141 -3.332051\n",
       "42     0  5203 -3.025175\n",
       "43     0  5225 -3.048343\n",
       "44     0  5283 -3.518112\n",
       "45     0  5370 -3.082821\n",
       "46     0  5395 -4.857812\n",
       "47     0  5561 -3.069813"
      ]
     },
     "execution_count": 268,
     "metadata": {},
     "output_type": "execute_result"
    }
   ],
   "source": [
    "dist_df"
   ]
  },
  {
   "cell_type": "code",
   "execution_count": 269,
   "metadata": {
    "ExecuteTime": {
     "end_time": "2020-05-11T03:31:26.491700Z",
     "start_time": "2020-05-11T03:31:26.102053Z"
    }
   },
   "outputs": [
    {
     "data": {
      "text/plain": [
       "array([[<matplotlib.axes._subplots.AxesSubplot object at 0x1a3f8264a8>,\n",
       "        <matplotlib.axes._subplots.AxesSubplot object at 0x1a3f8421d0>],\n",
       "       [<matplotlib.axes._subplots.AxesSubplot object at 0x1a32079358>,\n",
       "        <matplotlib.axes._subplots.AxesSubplot object at 0x1a35fa64a8>]],\n",
       "      dtype=object)"
      ]
     },
     "execution_count": 269,
     "metadata": {},
     "output_type": "execute_result"
    },
    {
     "data": {
      "image/png": "[encoded data removed]",
      "text/plain": [
       "<Figure size 432x288 with 4 Axes>"
      ]
     },
     "metadata": {
      "needs_background": "light"
     },
     "output_type": "display_data"
    }
   ],
   "source": [
    "dist_df.hist()"
   ]
  },
  {
   "cell_type": "markdown",
   "metadata": {},
   "source": [
    "---"
   ]
  },
  {
   "cell_type": "code",
   "execution_count": 272,
   "metadata": {
    "ExecuteTime": {
     "end_time": "2020-05-11T03:32:07.922983Z",
     "start_time": "2020-05-11T03:32:07.909362Z"
    }
   },
   "outputs": [
    {
     "data": {
      "text/html": [
       "<div>\n",
       "<style scoped>\n",
       "    .dataframe tbody tr th:only-of-type {\n",
       "        vertical-align: middle;\n",
       "    }\n",
       "\n",
       "    .dataframe tbody tr th {\n",
       "        vertical-align: top;\n",
       "    }\n",
       "\n",
       "    .dataframe thead th {\n",
       "        text-align: right;\n",
       "    }\n",
       "</style>\n",
       "<table border=\"1\" class=\"dataframe\">\n",
       "  <thead>\n",
       "    <tr style=\"text-align: right;\">\n",
       "      <th></th>\n",
       "      <th>head</th>\n",
       "      <th>tail</th>\n",
       "    </tr>\n",
       "  </thead>\n",
       "  <tbody>\n",
       "    <tr>\n",
       "      <th>19</th>\n",
       "      <td>0</td>\n",
       "      <td>1443</td>\n",
       "    </tr>\n",
       "    <tr>\n",
       "      <th>22</th>\n",
       "      <td>0</td>\n",
       "      <td>1660</td>\n",
       "    </tr>\n",
       "    <tr>\n",
       "      <th>46</th>\n",
       "      <td>0</td>\n",
       "      <td>5395</td>\n",
       "    </tr>\n",
       "  </tbody>\n",
       "</table>\n",
       "</div>"
      ],
      "text/plain": [
       "    head  tail\n",
       "19     0  1443\n",
       "22     0  1660\n",
       "46     0  5395"
      ]
     },
     "execution_count": 272,
     "metadata": {},
     "output_type": "execute_result"
    }
   ],
   "source": [
    "filt_dist_df = dist_df.loc[dist_df['score'] < -4].copy()\n",
    "filt_dist_df.drop(columns='score',inplace=True)\n",
    "filt_dist_df # feed it to append module"
   ]
  },
  {
   "cell_type": "markdown",
   "metadata": {},
   "source": [
    "# Append module "
   ]
  },
  {
   "cell_type": "markdown",
   "metadata": {},
   "source": [
    "Here we provide the append function. The result from each one of the previous sections, is a data frame with two columns, _head_ and _tail_. That data frame must be appende to `train.txt` in the format of \n",
    "```\n",
    "head_mid /similar_to tail_mid\n",
    "```\n",
    "The following function is written to do exactly that."
   ]
  },
  {
   "cell_type": "code",
   "execution_count": 21,
   "metadata": {
    "ExecuteTime": {
     "end_time": "2020-05-11T17:42:15.154797Z",
     "start_time": "2020-05-11T17:42:15.151974Z"
    }
   },
   "outputs": [],
   "source": [
    "import os"
   ]
  },
  {
   "cell_type": "code",
   "execution_count": 44,
   "metadata": {
    "ExecuteTime": {
     "end_time": "2020-05-11T18:20:18.060314Z",
     "start_time": "2020-05-11T18:20:18.046140Z"
    }
   },
   "outputs": [],
   "source": [
    "def append_train(input_df,new_name):\n",
    "    \"\"\" Appends the input data frame to a copy of train.txt.\n",
    "    \n",
    "    input_df: --pd.DataFrame: has two columns 'head', and 'tail' containing\n",
    "    the integer ids for heads and tails of similar tuples.\n",
    "    new_name: --str: name of the new file will be train_{new_name}.txt \n",
    "    \"\"\"\n",
    "    dest = './FB15K/train_app_'+ new_name + '.txt'\n",
    "    while os.path.isfile(dest):\n",
    "        new_name = input(\"File already exists. Give another name: \")\n",
    "        dest = './FB15K/train_app_'+ new_name + '.txt'\n",
    "    \n",
    "    heads = list(input_df['head']) \n",
    "    tails = list(input_df['tail']) \n",
    "\n",
    "    # Translate int ids to /mid\n",
    "    ents = pd.read_csv(\"./OpenKE/benchmarks/FB15K/entity2id.txt\",sep = '\\t',header=None, skiprows=[0],usecols=[0]) # first row is lineTot\n",
    "    heads_mid = list(ents.iloc[heads,0]) \n",
    "    rels_mid = ['/similar_to']*len(heads)\n",
    "    tails_mid = list(ents.iloc[tails,0]) \n",
    "\n",
    "    d = {'head': heads_mid , 'relation': rels_mid, 'tail':tails_mid}\n",
    "    df = pd.DataFrame(data=d)\n",
    "\n",
    "    from shutil import copyfile\n",
    "    copyfile('./FB15K/train.txt', dest)\n",
    "    df.to_csv(dest, mode='a', header=False,index=False, sep='\\t')\n",
    "    return dest"
   ]
  },
  {
   "cell_type": "code",
   "execution_count": 67,
   "metadata": {
    "ExecuteTime": {
     "end_time": "2020-05-11T18:26:40.023698Z",
     "start_time": "2020-05-11T18:26:25.291793Z"
    }
   },
   "outputs": [
    {
     "name": "stdout",
     "output_type": "stream",
     "text": [
      "File already exists. Give another name: cos_enr\n"
     ]
    },
    {
     "data": {
      "text/plain": [
       "'./FB15K/train_app_cos_enr.txt'"
      ]
     },
     "execution_count": 67,
     "metadata": {},
     "output_type": "execute_result"
    }
   ],
   "source": [
    "append_train(filt_cos_df,'cos')"
   ]
  },
  {
   "cell_type": "code",
   "execution_count": null,
   "metadata": {},
   "outputs": [],
   "source": []
  },
  {
   "cell_type": "markdown",
   "metadata": {},
   "source": [
    "# AMIE and Evaluations "
   ]
  },
  {
   "cell_type": "markdown",
   "metadata": {},
   "source": [
    "Running AMIE on each training file produces two outputs. Firsts the rules `./rules/{KB_name}_rules.txt` and then the evaluation of the rules `./evaluation/{KB_name}_rules_eval.txt`. Then calling the function `eval_frame(\"./evaluation/{KB_name}_rules_eval.txt\")` will measure the accuracy of rules by Hits@10.\n",
    "\n",
    "After enriching the KB with similarity links, we run the above procedure twice. Once on `train.txt` to get __Baseline evaluations__ and again on `train_enriched_{name}.txt`. Then compare the outputs from `eval_frame()`."
   ]
  },
  {
   "cell_type": "code",
   "execution_count": 68,
   "metadata": {
    "ExecuteTime": {
     "end_time": "2020-05-11T18:28:33.715521Z",
     "start_time": "2020-05-11T18:28:33.704234Z"
    }
   },
   "outputs": [],
   "source": [
    "def eval_frame(file, test_len):\n",
    "    \n",
    "    # Open file\n",
    "    f = open(file)\n",
    "    \n",
    "    # Hits counter\n",
    "    hits = 0\n",
    "    \n",
    "    # Loop though all facts in KB\n",
    "    for x in range(test_len):\n",
    "\n",
    "        # Read line\n",
    "        fact = f.readline()\n",
    "        fact = fact.split(' ')\n",
    "        if fact != ['']:\n",
    "            # Get target head and tail\n",
    "            head_target = fact[0]\n",
    "            tail_target = fact[2][:-1]\n",
    "\n",
    "\n",
    "            # Get head predictions\n",
    "            headpreds = f.readline()\n",
    "            headpreds = headpreds.split(' ')\n",
    "            headpreds = headpreds[1].split('\\t')\n",
    "            headpreds.pop()\n",
    "\n",
    "            # Get tail predictions\n",
    "            tailpreds = f.readline()\n",
    "            tailpreds = tailpreds.split(' ')\n",
    "            tailpreds = tailpreds[1].split('\\t')\n",
    "            tailpreds.pop()\n",
    "\n",
    "\n",
    "            if (head_target in headpreds) and (tail_target in tailpreds):\n",
    "                if (len(headpreds) < 10) and (len(tailpreds) < 10):\n",
    "                    hits+=1\n",
    "        else:\n",
    "            print('miss')\n",
    "                \n",
    "    return hits/(test_len)"
   ]
  },
  {
   "cell_type": "markdown",
   "metadata": {},
   "source": [
    "## Baseline evaluation "
   ]
  },
  {
   "cell_type": "markdown",
   "metadata": {
    "ExecuteTime": {
     "end_time": "2020-05-11T17:28:01.208400Z",
     "start_time": "2020-05-11T17:28:01.202508Z"
    }
   },
   "source": [
    "Just type in the right files in the next cell and continue."
   ]
  },
  {
   "cell_type": "code",
   "execution_count": 69,
   "metadata": {
    "ExecuteTime": {
     "end_time": "2020-05-11T18:28:51.609973Z",
     "start_time": "2020-05-11T18:28:51.605218Z"
    }
   },
   "outputs": [],
   "source": [
    "train_add = \"./FB15K/train_app_cos_enr.txt\"\n",
    "test_add = \"FB15K/test.txt\"\n",
    "valid_add = \"FB15K/valid.txt\"\n",
    "\n",
    "rules_add = \"rules/baseline_rules.txt\"\n",
    "eval_add = \"evaluation/baseline_rules_eval.txt\""
   ]
  },
  {
   "cell_type": "code",
   "execution_count": 73,
   "metadata": {
    "ExecuteTime": {
     "end_time": "2020-05-11T18:32:56.903378Z",
     "start_time": "2020-05-11T18:32:56.897052Z"
    }
   },
   "outputs": [],
   "source": [
    "# The text of the commands for running AMIE\n",
    "\n",
    "AMIE_plus = (\"java -XX:-UseGCOverheadLimit -Xmx4g -jar AMIE/amie_plus.jar \"\n",
    "\"-minhc 0.0 -mins 0 -minis 0 \" \n",
    "f\"{train_add} > {rules_add}\")\n",
    "\n",
    "Apply_AMIE_RULES = (f'java -jar AMIE/ApplyAMIERules.jar {rules_add}' \n",
    "                    f' {train_add} {test_add} {valid_add}'\n",
    "                    f' {eval_add}')"
   ]
  },
  {
   "cell_type": "markdown",
   "metadata": {},
   "source": [
    "The next cell will generate the rules and save them in `rules_add`."
   ]
  },
  {
   "cell_type": "code",
   "execution_count": 71,
   "metadata": {
    "ExecuteTime": {
     "end_time": "2020-05-11T18:30:20.991095Z",
     "start_time": "2020-05-11T18:29:00.313332Z"
    }
   },
   "outputs": [
    {
     "data": {
      "text/plain": [
       "0"
      ]
     },
     "execution_count": 71,
     "metadata": {},
     "output_type": "execute_result"
    }
   ],
   "source": [
    "os.system(AMIE_plus)"
   ]
  },
  {
   "cell_type": "markdown",
   "metadata": {},
   "source": [
    "Clean the output from previous cell (i.e. `rules_add`) before running applying AMIE rules. The header and footer of the file `rules_add` must be deleted. It should only contain rules."
   ]
  },
  {
   "cell_type": "code",
   "execution_count": 75,
   "metadata": {
    "ExecuteTime": {
     "end_time": "2020-05-11T18:34:09.474943Z",
     "start_time": "2020-05-11T18:33:41.971056Z"
    }
   },
   "outputs": [
    {
     "data": {
      "text/plain": [
       "0"
      ]
     },
     "execution_count": 75,
     "metadata": {},
     "output_type": "execute_result"
    }
   ],
   "source": [
    "os.system(Apply_AMIE_RULES)"
   ]
  },
  {
   "cell_type": "code",
   "execution_count": 76,
   "metadata": {
    "ExecuteTime": {
     "end_time": "2020-05-11T18:34:18.577324Z",
     "start_time": "2020-05-11T18:34:18.546680Z"
    }
   },
   "outputs": [
    {
     "data": {
      "text/plain": [
       "59071"
      ]
     },
     "execution_count": 76,
     "metadata": {},
     "output_type": "execute_result"
    }
   ],
   "source": [
    "# Get the lenght of the test file. It is fed to eval_frame()\n",
    "import subprocess\n",
    "test_len = subprocess.run(['wc', '-l', test_add], stdout=subprocess.PIPE).stdout.decode('utf-8')\n",
    "test_len = int(test_len.split()[0])\n",
    "test_len"
   ]
  },
  {
   "cell_type": "code",
   "execution_count": 42,
   "metadata": {
    "ExecuteTime": {
     "end_time": "2020-05-11T18:07:29.274776Z",
     "start_time": "2020-05-11T18:07:29.087467Z"
    }
   },
   "outputs": [
    {
     "name": "stdout",
     "output_type": "stream",
     "text": [
      "Hits@10: 3.3857561239863894e-05\n"
     ]
    }
   ],
   "source": [
    "print(eval_add)\n",
    "print('Hits@10: ' + str(eval_frame(eval_add, test_len)))"
   ]
  },
  {
   "cell_type": "markdown",
   "metadata": {},
   "source": [
    "---"
   ]
  },
  {
   "cell_type": "markdown",
   "metadata": {},
   "source": [
    "## Enriched KB Evaluation "
   ]
  },
  {
   "cell_type": "markdown",
   "metadata": {},
   "source": [
    "Basically repeat everything from Baseline Evaluation for the enriched training file."
   ]
  },
  {
   "cell_type": "code",
   "execution_count": 72,
   "metadata": {
    "ExecuteTime": {
     "end_time": "2020-05-11T18:32:49.241788Z",
     "start_time": "2020-05-11T18:32:49.238634Z"
    }
   },
   "outputs": [],
   "source": [
    "train_add = \"./FB15K/train_app_cos_enr.txt\" # From append module\n",
    "test_add = \"FB15K/test.txt\"\n",
    "valid_add = \"FB15K/valid.txt\"\n",
    "\n",
    "rules_add = \"rules/Enriched_rules.txt\" # modify this name if you like\n",
    "eval_add = \"evaluation/Enriched_rules_eval.txt\" # same here\n",
    "\n",
    "\n",
    "# The texts of the commands for running AMIE\n",
    "AMIE_plus = (\"java -XX:-UseGCOverheadLimit -Xmx4g -jar AMIE/amie_plus.jar \"\n",
    "\"-minhc 0.0 -mins 0 -minis 0 \" \n",
    "f\"{train_add} > {rules_add}\")\n",
    "\n",
    "Apply_AMIE_RULES = (f'java -jar AMIE/ApplyAMIERules.jar {rules_add}' \n",
    "                    f' {train_add} {test_add} {valid_add}'\n",
    "                    f' {eval_add}')\n",
    "\n",
    "os.system(AMIE_plus)"
   ]
  },
  {
   "cell_type": "markdown",
   "metadata": {},
   "source": [
    "trim `{}_rules.txt` again"
   ]
  },
  {
   "cell_type": "code",
   "execution_count": null,
   "metadata": {},
   "outputs": [],
   "source": [
    "os.system(Apply_AMIE_RULES) # if output is 256 then you forgot to trim"
   ]
  },
  {
   "cell_type": "code",
   "execution_count": 78,
   "metadata": {
    "ExecuteTime": {
     "end_time": "2020-05-11T18:42:23.459462Z",
     "start_time": "2020-05-11T18:42:23.130370Z"
    }
   },
   "outputs": [
    {
     "name": "stdout",
     "output_type": "stream",
     "text": [
      "evaluation/Enriched_rules_eval.txt\n",
      "Hits@10: 0.18892519171844052\n"
     ]
    }
   ],
   "source": [
    "print(eval_add)\n",
    "print('Hits@10: ' + str(eval_frame(eval_add, test_len)))"
   ]
  },
  {
   "cell_type": "code",
   "execution_count": null,
   "metadata": {},
   "outputs": [],
   "source": []
  }
 ],
 "metadata": {
  "kernelspec": {
   "display_name": "Python 3",
   "language": "python",
   "name": "python3"
  },
  "language_info": {
   "codemirror_mode": {
    "name": "ipython",
    "version": 3
   },
   "file_extension": ".py",
   "mimetype": "text/x-python",
   "name": "python",
   "nbconvert_exporter": "python",
   "pygments_lexer": "ipython3",
   "version": "3.7.1"
  },
  "toc": {
   "base_numbering": 1,
   "nav_menu": {},
   "number_sections": true,
   "sideBar": true,
   "skip_h1_title": false,
   "title_cell": "Table of Contents",
   "title_sidebar": "Contents",
   "toc_cell": true,
   "toc_position": {
    "height": "calc(100% - 180px)",
    "left": "10px",
    "top": "150px",
    "width": "204.8px"
   },
   "toc_section_display": true,
   "toc_window_display": false
  },
  "varInspector": {
   "cols": {
    "lenName": 16,
    "lenType": 16,
    "lenVar": 40
   },
   "kernels_config": {
    "python": {
     "delete_cmd_postfix": "",
     "delete_cmd_prefix": "del ",
     "library": "var_list.py",
     "varRefreshCmd": "print(var_dic_list())"
    },
    "r": {
     "delete_cmd_postfix": ") ",
     "delete_cmd_prefix": "rm(",
     "library": "var_list.r",
     "varRefreshCmd": "cat(var_dic_list()) "
    }
   },
   "position": {
    "height": "246.85px",
    "left": "654px",
    "right": "20px",
    "top": "119px",
    "width": "350px"
   },
   "types_to_exclude": [
    "module",
    "function",
    "builtin_function_or_method",
    "instance",
    "_Feature"
   ],
   "window_display": false
  }
 },
 "nbformat": 4,
 "nbformat_minor": 4
}
