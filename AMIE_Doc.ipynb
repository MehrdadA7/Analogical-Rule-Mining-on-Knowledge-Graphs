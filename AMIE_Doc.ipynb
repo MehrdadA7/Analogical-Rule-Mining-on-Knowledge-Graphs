{
 "cells": [
  {
   "cell_type": "code",
   "execution_count": 1,
   "metadata": {},
   "outputs": [
    {
     "name": "stdout",
     "output_type": "stream",
     "text": [
      "Installing from gitHub\n",
      "0\n",
      "Successfuly installed OpenKE.\n",
      "Sub\n"
     ]
    }
   ],
   "source": [
    "from pkgX.xClass import xSimilarity\n",
    "\n",
    "x = xSimilarity()\n",
    "x.install_openke('git')\n",
    "\n",
    "x.current_dataset = 'FB15K237'\n",
    "x.method = 'sub' # 'distMult' , 'cosD'"
   ]
  },
  {
   "cell_type": "code",
   "execution_count": 2,
   "metadata": {},
   "outputs": [],
   "source": [
    "df = x.load_from_npz('npz_files/'+x.method+'_'+ x.current_dataset + '.npz')\n",
    "\n",
    "for percent in [5,10,15,20]:\n",
    "    x.filter_and_append(df,percent)\n",
    "    \n",
    "x.AMIE_mine_enriched(max_heap_size=64, minhc=0.0, mins=0, minis=0)"
   ]
  },
  {
   "cell_type": "code",
   "execution_count": 4,
   "metadata": {},
   "outputs": [
    {
     "name": "stdout",
     "output_type": "stream",
     "text": [
      "running AMIE_plus\n",
      "running Apply_AMIE_RULES\n",
      "/home/ubuntu/Ali/Analogical-Rule-Mining-on-Knowledge-Graphs/evaluation/FB15K237_baseline_rules_eval.txt\n",
      "Hits@10: 0.1169744942832014\n"
     ]
    }
   ],
   "source": [
    "# x.AMIE_mine_baseline(max_heap_size=64, minhc=0.0, mins=0, minis=0)\n",
    "\n",
    "# running AMIE_plus\n",
    "# running Apply_AMIE_RULES\n",
    "# /home/ubuntu/Ali/Analogical-Rule-Mining-on-Knowledge-Graphs/evaluation/FB15K237_baseline_rules_eval.txt\n",
    "# Hits@10: 0.1169744942832014"
   ]
  },
  {
   "cell_type": "code",
   "execution_count": null,
   "metadata": {},
   "outputs": [],
   "source": [
    "x.AMIE_mine_enriched(max_heap_size=64, minhc=0.0, mins=0, minis=0)"
   ]
  },
  {
   "cell_type": "code",
   "execution_count": null,
   "metadata": {},
   "outputs": [
    {
     "name": "stdout",
     "output_type": "stream",
     "text": [
      "running AMIE_plus\n",
      "running Apply_AMIE_RULES\n",
      "/home/ubuntu/Ali/Analogical-Rule-Mining-on-Knowledge-Graphs/evaluation/FB15K237_eval5p_2020-06-08_11-57-58.txt\n",
      "Hits@10: 0.13681227401544024\n",
      "\n",
      "\n",
      "running AMIE_plus\n",
      "running Apply_AMIE_RULES\n",
      "/home/ubuntu/Ali/Analogical-Rule-Mining-on-Knowledge-Graphs/evaluation/FB15K237_eval20p_2020-06-08_11-57-58.txt\n",
      "Hits@10: 0.13984168865435356\n",
      "\n",
      "\n",
      "running AMIE_plus\n",
      "running Apply_AMIE_RULES\n",
      "/home/ubuntu/Ali/Analogical-Rule-Mining-on-Knowledge-Graphs/evaluation/FB15K237_eval10p_2020-06-08_11-57-58.txt\n",
      "Hits@10: 0.14135639597381022\n",
      "\n",
      "\n",
      "running AMIE_plus\n",
      "running Apply_AMIE_RULES\n",
      "/home/ubuntu/Ali/Analogical-Rule-Mining-on-Knowledge-Graphs/evaluation/FB15K237_eval15p_2020-06-08_11-57-58.txt\n",
      "Hits@10: 0.14135639597381022\n",
      "\n",
      "\n",
      "running AMIE_plus\n",
      "running Apply_AMIE_RULES\n",
      "/home/ubuntu/Ali/Analogical-Rule-Mining-on-Knowledge-Graphs/evaluation/FB15K237_eval5p_2020-06-08_12-03-06.txt\n",
      "Hits@10: 0.13681227401544024\n",
      "\n",
      "\n",
      "running AMIE_plus\n",
      "running Apply_AMIE_RULES\n",
      "/home/ubuntu/Ali/Analogical-Rule-Mining-on-Knowledge-Graphs/evaluation/FB15K237_eval10p_2020-06-08_12-03-06.txt\n",
      "Hits@10: 0.14116094986807387\n",
      "\n",
      "\n",
      "running AMIE_plus\n"
     ]
    }
   ],
   "source": [
    "# x.AMIE_mine_enriched(max_heap_size=64, minhc=0.0, mins=0, minis=0)\n",
    "# running AMIE_plus\n",
    "# running Apply_AMIE_RULES\n",
    "# /home/ubuntu/Ali/Analogical-Rule-Mining-on-Knowledge-Graphs/evaluation/FB15K237_eval5p_2020-06-08_11-57-58.txt\n",
    "# Hits@10: 0.13681227401544024\n",
    "\n",
    "\n",
    "# running AMIE_plus\n",
    "# running Apply_AMIE_RULES\n",
    "# /home/ubuntu/Ali/Analogical-Rule-Mining-on-Knowledge-Graphs/evaluation/FB15K237_eval20p_2020-06-08_11-57-58.txt\n",
    "# Hits@10: 0.13984168865435356\n",
    "\n",
    "\n",
    "# running AMIE_plus\n",
    "# running Apply_AMIE_RULES\n",
    "# /home/ubuntu/Ali/Analogical-Rule-Mining-on-Knowledge-Graphs/evaluation/FB15K237_eval10p_2020-06-08_11-57-58.txt\n",
    "# Hits@10: 0.14135639597381022\n",
    "\n",
    "\n",
    "# running AMIE_plus\n",
    "# running Apply_AMIE_RULES\n",
    "# /home/ubuntu/Ali/Analogical-Rule-Mining-on-Knowledge-Graphs/evaluation/FB15K237_eval15p_2020-06-08_11-57-58.txt\n",
    "# Hits@10: 0.14135639597381022"
   ]
  },
  {
   "cell_type": "code",
   "execution_count": 9,
   "metadata": {},
   "outputs": [
    {
     "name": "stdout",
     "output_type": "stream",
     "text": [
      "cosD\n",
      "running AMIE_plus\n",
      "running Apply_AMIE_RULES\n",
      "/home/ubuntu/Ali/Analogical-Rule-Mining-on-Knowledge-Graphs/evaluation/FB15K_baseline_rules_eval.txt\n",
      "Hits@10: 0.8081799867955511\n"
     ]
    }
   ],
   "source": [
    "from pkgX.xClass import xSimilarity\n",
    "\n",
    "x = xSimilarity()\n",
    "#x.install_openke('git')\n",
    "\n",
    "x.current_dataset = 'FB15K'\n",
    "x.method = 'cosD' # 'distMult' , 'cosD'\n",
    "\n",
    "x.AMIE_mine_baseline(max_heap_size=128, minhc=0.0, mins=0, minis=0)\n",
    "#x.AMIE_mine_enriched(max_heap_size=128, minhc=0.0, mins=0, minis=0)"
   ]
  },
  {
   "cell_type": "code",
   "execution_count": 10,
   "metadata": {},
   "outputs": [
    {
     "name": "stdout",
     "output_type": "stream",
     "text": [
      "running AMIE_plus\n",
      "running Apply_AMIE_RULES\n",
      "/home/ubuntu/Ali/Analogical-Rule-Mining-on-Knowledge-Graphs/evaluation/FB15K_eval_5p_2020-06-08_13-10-05.txt\n",
      "Hits@10: 0.8083492746017504\n",
      "\n",
      "\n",
      "running AMIE_plus\n",
      "running Apply_AMIE_RULES\n",
      "/home/ubuntu/Ali/Analogical-Rule-Mining-on-Knowledge-Graphs/evaluation/FB15K_eval_10p_2020-06-08_13-10-05.txt\n",
      "Hits@10: 0.8078414111831524\n",
      "\n",
      "\n",
      "running AMIE_plus\n",
      "running Apply_AMIE_RULES\n",
      "/home/ubuntu/Ali/Analogical-Rule-Mining-on-Knowledge-Graphs/evaluation/FB15K_eval_15p_2020-06-08_13-10-05.txt\n",
      "Hits@10: 0.8068426131265765\n",
      "\n",
      "\n",
      "running AMIE_plus\n",
      "running Apply_AMIE_RULES\n",
      "/home/ubuntu/Ali/Analogical-Rule-Mining-on-Knowledge-Graphs/evaluation/FB15K_eval_20p_2020-06-08_13-10-05.txt\n",
      "Hits@10: 0.8078075536219126\n",
      "\n",
      "\n"
     ]
    }
   ],
   "source": [
    "df = x.load_from_npz('npz_files/'+x.method+'_'+ x.current_dataset + '.npz')\n",
    "for percent in [5,10,15,20]:\n",
    "    x.filter_and_append(df,percent)\n",
    "    \n",
    "x.AMIE_mine_enriched(max_heap_size=128, minhc=0.0, mins=0, minis=0)"
   ]
  },
  {
   "cell_type": "code",
   "execution_count": null,
   "metadata": {},
   "outputs": [],
   "source": [
    "# df = x.load_from_npz('npz_files/'+x.method+'_'+ x.current_dataset + '.npz')\n",
    "# for percent in [5,10,15,20]:\n",
    "#     x.filter_and_append(df,percent)\n",
    "    \n",
    "# x.AMIE_mine_enriched(max_heap_size=128, minhc=0.0, mins=0, minis=0)\n",
    "\n",
    "# running AMIE_plus\n",
    "# running Apply_AMIE_RULES\n",
    "# /home/ubuntu/Ali/Analogical-Rule-Mining-on-Knowledge-Graphs/evaluation/FB15K_eval_5p_2020-06-08_13-10-05.txt\n",
    "# Hits@10: 0.8083492746017504\n",
    "\n",
    "\n",
    "# running AMIE_plus\n",
    "# running Apply_AMIE_RULES\n",
    "# /home/ubuntu/Ali/Analogical-Rule-Mining-on-Knowledge-Graphs/evaluation/FB15K_eval_10p_2020-06-08_13-10-05.txt\n",
    "# Hits@10: 0.8078414111831524\n",
    "\n",
    "\n",
    "# running AMIE_plus\n",
    "# running Apply_AMIE_RULES\n",
    "# /home/ubuntu/Ali/Analogical-Rule-Mining-on-Knowledge-Graphs/evaluation/FB15K_eval_15p_2020-06-08_13-10-05.txt\n",
    "# Hits@10: 0.8068426131265765\n",
    "\n",
    "\n",
    "# running AMIE_plus\n",
    "# running Apply_AMIE_RULES\n",
    "# /home/ubuntu/Ali/Analogical-Rule-Mining-on-Knowledge-Graphs/evaluation/FB15K_eval_20p_2020-06-08_13-10-05.txt\n",
    "# Hits@10: 0.8078075536219126"
   ]
  },
  {
   "cell_type": "code",
   "execution_count": 12,
   "metadata": {},
   "outputs": [
    {
     "name": "stdout",
     "output_type": "stream",
     "text": [
      "distMult\n",
      "running AMIE_plus\n",
      "running Apply_AMIE_RULES\n",
      "/home/ubuntu/Ali/Analogical-Rule-Mining-on-Knowledge-Graphs/evaluation/FB15K_evalMult_5p_2020-06-08_14-35-28.txt\n",
      "Hits@10: 0.8090941409490274\n",
      "\n",
      "\n",
      "running AMIE_plus\n",
      "running Apply_AMIE_RULES\n",
      "/home/ubuntu/Ali/Analogical-Rule-Mining-on-Knowledge-Graphs/evaluation/FB15K_evalMult_10p_2020-06-08_14-35-28.txt\n",
      "Hits@10: 0.8091279985102673\n",
      "\n",
      "\n",
      "running AMIE_plus\n",
      "running Apply_AMIE_RULES\n",
      "/home/ubuntu/Ali/Analogical-Rule-Mining-on-Knowledge-Graphs/evaluation/FB15K_evalMult_15p_2020-06-08_14-35-28.txt\n",
      "Hits@10: 0.8092464999746068\n",
      "\n",
      "\n",
      "running AMIE_plus\n",
      "running Apply_AMIE_RULES\n",
      "/home/ubuntu/Ali/Analogical-Rule-Mining-on-Knowledge-Graphs/evaluation/FB15K_evalMult_20p_2020-06-08_14-35-28.txt\n",
      "Hits@10: 0.8095512180257656\n",
      "\n",
      "\n"
     ]
    }
   ],
   "source": [
    "from pkgX.xClass import xSimilarity\n",
    "\n",
    "x = xSimilarity()\n",
    "#x.install_openke('git')\n",
    "\n",
    "x.current_dataset = 'FB15K' \n",
    "x.method = 'distMult' \n",
    "\n",
    "df = x.load_from_npz('npz_files/'+x.method+'_'+ x.current_dataset + '.npz')\n",
    "\n",
    "for percent in [5,10,15,20]:\n",
    "    x.filter_and_append(df,percent)\n",
    "    \n",
    "x.AMIE_mine_enriched(max_heap_size=128, minhc=0.0, mins=0, minis=0)"
   ]
  },
  {
   "cell_type": "code",
   "execution_count": 7,
   "metadata": {},
   "outputs": [
    {
     "data": {
      "text/plain": [
       "2"
      ]
     },
     "execution_count": 7,
     "metadata": {},
     "output_type": "execute_result"
    }
   ],
   "source": [
    "1+1"
   ]
  },
  {
   "cell_type": "code",
   "execution_count": null,
   "metadata": {},
   "outputs": [],
   "source": []
  }
 ],
 "metadata": {
  "kernelspec": {
   "display_name": "Python 3",
   "language": "python",
   "name": "python3"
  },
  "language_info": {
   "codemirror_mode": {
    "name": "ipython",
    "version": 3
   },
   "file_extension": ".py",
   "mimetype": "text/x-python",
   "name": "python",
   "nbconvert_exporter": "python",
   "pygments_lexer": "ipython3",
   "version": "3.6.9"
  }
 },
 "nbformat": 4,
 "nbformat_minor": 4
}
