{
 "cells": [
  {
   "cell_type": "code",
   "execution_count": 1,
   "metadata": {},
   "outputs": [
    {
     "name": "stdout",
     "output_type": "stream",
     "text": [
      "Sub\n"
     ]
    }
   ],
   "source": [
    "from pkgX.xClass import xSimilarity\n",
    "\n",
    "x = xSimilarity()\n",
    "x.install_openke('git')\n",
    "\n",
    "x.current_dataset = 'FB15K237' \n",
    "x.method = 'sub' # 'distMult' , 'cosD'"
   ]
  },
  {
   "cell_type": "code",
   "execution_count": 3,
   "metadata": {},
   "outputs": [],
   "source": [
    "df = x.load_from_npz('npz_files/'+x.method+'_'+ x.current_dataset + '.npz')"
   ]
  },
  {
   "cell_type": "code",
   "execution_count": 4,
   "metadata": {},
   "outputs": [],
   "source": [
    "for percent in [5,10,15,20]:\n",
    "    x.filter_and_append(df,percent)"
   ]
  },
  {
   "cell_type": "code",
   "execution_count": 2,
   "metadata": {},
   "outputs": [
    {
     "data": {
      "text/plain": [
       "\u001b[0;31mSignature:\u001b[0m \u001b[0mx\u001b[0m\u001b[0;34m.\u001b[0m\u001b[0mAMIE_mine_baseline\u001b[0m\u001b[0;34m(\u001b[0m\u001b[0mmax_heap_size\u001b[0m\u001b[0;34m=\u001b[0m\u001b[0;36m16\u001b[0m\u001b[0;34m,\u001b[0m \u001b[0mminhc\u001b[0m\u001b[0;34m=\u001b[0m\u001b[0;36m0.25\u001b[0m\u001b[0;34m,\u001b[0m \u001b[0mmins\u001b[0m\u001b[0;34m=\u001b[0m\u001b[0;36m50\u001b[0m\u001b[0;34m,\u001b[0m \u001b[0mminis\u001b[0m\u001b[0;34m=\u001b[0m\u001b[0;36m0\u001b[0m\u001b[0;34m)\u001b[0m\u001b[0;34m\u001b[0m\u001b[0;34m\u001b[0m\u001b[0m\n",
       "\u001b[0;31mDocstring:\u001b[0m <no docstring>\n",
       "\u001b[0;31mFile:\u001b[0m      ~/MyDir/X2/Analogical-Rule-Mining-on-Knowledge-Graphs/pkgX/xClass.py\n",
       "\u001b[0;31mType:\u001b[0m      method\n"
      ]
     },
     "metadata": {},
     "output_type": "display_data"
    }
   ],
   "source": [
    "x.AMIE_mine_baseline?"
   ]
  },
  {
   "cell_type": "code",
   "execution_count": 3,
   "metadata": {},
   "outputs": [
    {
     "data": {
      "text/plain": [
       "\u001b[0;31mSignature:\u001b[0m \u001b[0mx\u001b[0m\u001b[0;34m.\u001b[0m\u001b[0mAMIE_mine_enriched\u001b[0m\u001b[0;34m(\u001b[0m\u001b[0mmax_heap_size\u001b[0m\u001b[0;34m=\u001b[0m\u001b[0;36m16\u001b[0m\u001b[0;34m,\u001b[0m \u001b[0mminhc\u001b[0m\u001b[0;34m=\u001b[0m\u001b[0;36m0.25\u001b[0m\u001b[0;34m,\u001b[0m \u001b[0mmins\u001b[0m\u001b[0;34m=\u001b[0m\u001b[0;36m50\u001b[0m\u001b[0;34m,\u001b[0m \u001b[0mminis\u001b[0m\u001b[0;34m=\u001b[0m\u001b[0;36m0\u001b[0m\u001b[0;34m)\u001b[0m\u001b[0;34m\u001b[0m\u001b[0;34m\u001b[0m\u001b[0m\n",
       "\u001b[0;31mDocstring:\u001b[0m\n",
       "Mine rules from all the enriched files in the current dataset. The file names can be \n",
       "accessed with key: ['enriched_files']\n",
       "Enriched file names starts with 'train_'.\n",
       "\u001b[0;31mFile:\u001b[0m      ~/MyDir/X2/Analogical-Rule-Mining-on-Knowledge-Graphs/pkgX/xClass.py\n",
       "\u001b[0;31mType:\u001b[0m      method\n"
      ]
     },
     "metadata": {},
     "output_type": "display_data"
    }
   ],
   "source": [
    "x.AMIE_mine_enriched?"
   ]
  },
  {
   "cell_type": "code",
   "execution_count": 6,
   "metadata": {},
   "outputs": [
    {
     "data": {
      "text/plain": [
       "{'root': '/Users/mehrdadalvandipour/MyDir/X2/Analogical-Rule-Mining-on-Knowledge-Graphs',\n",
       " 'openKE': '/Users/mehrdadalvandipour/MyDir/X2/Analogical-Rule-Mining-on-Knowledge-Graphs/OpenKE',\n",
       " 'cloud_datasets': '',\n",
       " 'local_datasets': '/Users/mehrdadalvandipour/MyDir/X2/Analogical-Rule-Mining-on-Knowledge-Graphs/datasets',\n",
       " 'backup': '/content/drive/My Drive/Colab Notebooks/backup',\n",
       " 'benchmarks_folder': '/Users/mehrdadalvandipour/MyDir/X2/Analogical-Rule-Mining-on-Knowledge-Graphs/OpenKE/benchmarks',\n",
       " 'benchmarks_dict': {'NELL-995': {'train_size': 149678,\n",
       "   'test_size': 3992,\n",
       "   'ent_total': 75492,\n",
       "   'rel_total': 200},\n",
       "  'FB13': {'train_size': 316232,\n",
       "   'test_size': 23733,\n",
       "   'ent_total': 75043,\n",
       "   'rel_total': 13},\n",
       "  'FB15K237': {'train_size': 272115,\n",
       "   'test_size': 20466,\n",
       "   'ent_total': 14541,\n",
       "   'rel_total': 237},\n",
       "  'WN18RR': {'train_size': 86835,\n",
       "   'test_size': 3134,\n",
       "   'ent_total': 40943,\n",
       "   'rel_total': 11},\n",
       "  'YAGO3-10': {'train_size': 1079040,\n",
       "   'test_size': 5000,\n",
       "   'ent_total': 123182,\n",
       "   'rel_total': 37},\n",
       "  'WN18': {'train_size': 141442,\n",
       "   'test_size': 5000,\n",
       "   'ent_total': 40943,\n",
       "   'rel_total': 18},\n",
       "  'WN11': {'train_size': 112581,\n",
       "   'test_size': 10544,\n",
       "   'ent_total': 38588,\n",
       "   'rel_total': 11},\n",
       "  'FB15K': {'train_size': 483142,\n",
       "   'test_size': 59071,\n",
       "   'ent_total': 14951,\n",
       "   'rel_total': 1345}},\n",
       " 'enriched_files': ['train_Sub_5p_2020-06-08_14-15-21.txt',\n",
       "  'train_Sub_10p_2020-06-08_14-15-21.txt',\n",
       "  'train_Sub_15p_2020-06-08_14-15-22.txt',\n",
       "  'train_Sub_20p_2020-06-08_14-15-22.txt'],\n",
       " 'checkpoints': '/Users/mehrdadalvandipour/MyDir/X2/Analogical-Rule-Mining-on-Knowledge-Graphs/checkpoints',\n",
       " 'rules': '/Users/mehrdadalvandipour/MyDir/X2/Analogical-Rule-Mining-on-Knowledge-Graphs/rules',\n",
       " 'evaluation': '/Users/mehrdadalvandipour/MyDir/X2/Analogical-Rule-Mining-on-Knowledge-Graphs/evaluation'}"
      ]
     },
     "execution_count": 6,
     "metadata": {},
     "output_type": "execute_result"
    }
   ],
   "source": [
    "x"
   ]
  },
  {
   "cell_type": "code",
   "execution_count": null,
   "metadata": {},
   "outputs": [],
   "source": []
  }
 ],
 "metadata": {
  "kernelspec": {
   "display_name": "Python 3",
   "language": "python",
   "name": "python3"
  },
  "language_info": {
   "codemirror_mode": {
    "name": "ipython",
    "version": 3
   },
   "file_extension": ".py",
   "mimetype": "text/x-python",
   "name": "python",
   "nbconvert_exporter": "python",
   "pygments_lexer": "ipython3",
   "version": "3.7.1"
  }
 },
 "nbformat": 4,
 "nbformat_minor": 4
}
